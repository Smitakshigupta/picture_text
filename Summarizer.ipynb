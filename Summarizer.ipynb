{
 "cells": [
  {
   "cell_type": "markdown",
   "metadata": {},
   "source": [
    "# Summarizer\n",
    "Objective here is to produce a summary given a list of documents (texts)\n",
    "- We are dealing with short documents (headlines, tweets) so we could either use single document summary by treating each headline as a sentence in a large document to summarize or we can use multidocument summary where each document is just the headline. Note that single document summarizers will likely use the position of the sentence in the document as a summary\n",
    "\n",
    "Parts of the study\n",
    "- We can use some evaluation too when applying across documents"
   ]
  },
  {
   "cell_type": "markdown",
   "metadata": {},
   "source": [
    "# Quick start\n",
    "Easiest approach is to use sentence transformers to embed each headline from a list and find the most similar within the cluster as representative"
   ]
  },
  {
   "cell_type": "code",
   "execution_count": 2,
   "metadata": {},
   "outputs": [],
   "source": [
    "from sentence_transformers import SentenceTransformer\n",
    "model1 = SentenceTransformer('distilbert-base-nli-stsb-mean-tokens')"
   ]
  },
  {
   "cell_type": "code",
   "execution_count": 83,
   "metadata": {},
   "outputs": [],
   "source": [
    "import pandas as pd\n",
    "df = pd.read_csv('../et/data/abcnews-date-text.csv',index_col=0,nrows=10000)"
   ]
  },
  {
   "cell_type": "code",
   "execution_count": 84,
   "metadata": {},
   "outputs": [],
   "source": [
    "clust_txt=list(df.headline_text.values)"
   ]
  },
  {
   "cell_type": "code",
   "execution_count": 85,
   "metadata": {},
   "outputs": [
    {
     "name": "stdout",
     "output_type": "stream",
     "text": [
      "CPU times: user 4min 7s, sys: 1.32 s, total: 4min 8s\n",
      "Wall time: 41.6 s\n"
     ]
    }
   ],
   "source": [
    "%%time\n",
    "clust_emb=model1.encode(clust_txt, batch_size=16, \n",
    "                                       show_progress_bar=False, convert_to_numpy=True)"
   ]
  },
  {
   "cell_type": "code",
   "execution_count": 6,
   "metadata": {},
   "outputs": [],
   "source": [
    "%load_ext autoreload"
   ]
  },
  {
   "cell_type": "code",
   "execution_count": 7,
   "metadata": {},
   "outputs": [],
   "source": [
    "%autoreload 2\n",
    "from picture_text_summary import unroll_tree_map, cluster_summary_simple\n",
    "from hac_tools import HAC\n",
    "from treemap import build_tree_map"
   ]
  },
  {
   "cell_type": "code",
   "execution_count": null,
   "metadata": {},
   "outputs": [],
   "source": [
    "single\n",
    "complete\n",
    "average\n",
    "weighted\n",
    "Ward\n",
    "centroid\n",
    "median"
   ]
  },
  {
   "cell_type": "code",
   "execution_count": null,
   "metadata": {},
   "outputs": [],
   "source": [
    "- per documentation this scales O(n^2) lets see this with actual numbers and examples\n",
    "- try out different clustering approaches and time taken\n",
    "- the issue with hac is it has too much freedom - that is both its strength but the difficulty with visualising it"
   ]
  },
  {
   "cell_type": "code",
   "execution_count": 90,
   "metadata": {},
   "outputs": [
    {
     "name": "stdout",
     "output_type": "stream",
     "text": [
      "CPU times: user 50.1 s, sys: 252 ms, total: 50.4 s\n",
      "Wall time: 50.4 s\n"
     ]
    }
   ],
   "source": [
    "%%time\n",
    "df_res = unroll_tree_map(clust_emb, method='average',max_extension=3)\n"
   ]
  },
  {
   "cell_type": "code",
   "execution_count": 97,
   "metadata": {},
   "outputs": [
    {
     "name": "stdout",
     "output_type": "stream",
     "text": [
      "CPU times: user 49.6 s, sys: 267 ms, total: 49.8 s\n",
      "Wall time: 49.9 s\n"
     ]
    }
   ],
   "source": [
    "%%time\n",
    "df_res = unroll_tree_map(clust_emb, method='centroid',max_extension=3)\n"
   ]
  },
  {
   "cell_type": "code",
   "execution_count": 98,
   "metadata": {},
   "outputs": [],
   "source": [
    "import numpy as np\n",
    "df_res['labels']=df_res.apply(lambda x: \\\n",
    "    cluster_summary_simple([np.array(clust_txt[m]) for m in x['cluster_members']], \\\n",
    "                           model1, [np.array(clust_emb[m]) for m in x['cluster_members']]), axis=1)\n",
    "#df_res['summary_parent']=df_res.parent.apply(lambda x: '' if x == 'all' else df_res.summary[x])\n",
    "#df_res1=df_res.drop(['id','parent'], axis=1).rename(columns={'summary':'id','summary_parent':'parent'})\n",
    "#df_res1['id']=df_res1['id'].apply(lambda x: x[:6])\n",
    "#df_res1['parent']=df_res1['parent'].apply(lambda x: x[:6])\n",
    "\n",
    "df_res.shape\n"
   ]
  },
  {
   "cell_type": "code",
   "execution_count": 100,
   "metadata": {
    "scrolled": true
   },
   "outputs": [
    {
     "data": {
      "application/vnd.plotly.v1+json": {
       "config": {
        "plotlyServerURL": "https://plot.ly"
       },
       "data": [
        {
         "branchvalues": "total",
         "domain": {
          "x": [
           0,
           1
          ],
          "y": [
           0,
           1
          ]
         },
         "hovertemplate": "<b>%{label} </b> <br> Label: %{value}<br>Color: %{color:.2f}",
         "ids": [
          -1,
          6153,
          19990,
          1307,
          4681,
          10037,
          2333,
          4459,
          4959,
          9862,
          6092,
          19982,
          1248,
          2140,
          260,
          2891,
          2748,
          8029,
          6706,
          3395,
          8998,
          4121,
          4808,
          19974,
          6802,
          3549,
          3271,
          9251,
          65,
          3487,
          1316
         ],
         "labels": [
          "all",
          "teenager martins helps inter through",
          "canberra trip boosts wastewater plan hopes",
          "hurst considers closest rivals",
          "huge increase in people caught speeding",
          "test test",
          "two major political parties join forces in austria",
          "its raining men",
          "parents seek school answers",
          "happy birthday astro boy",
          "more people downloading via broadband",
          "canberra trip boosts wastewater plan hopes",
          "cotton week to coincide with worst season",
          "tennis on collision course",
          "families confront korean president elect over",
          "paris love match looks unlikely prospect",
          "warriors wield axe",
          "kwan wins world figure skating short program",
          "madonna sweeps worst film awards",
          "test test",
          "test test",
          "test test test",
          "360 civilians killed during palestinian uprising",
          "canberra trip boosts wastewater plan hopes",
          "24 hindus killed in kashmir",
          "man injured in gas blast",
          "derby pair face court over atm incident",
          "22 dead in conflict in india",
          "hacker gains access to eight million credit cards",
          "family distressed over hospital bed wait",
          "joeys opponents still unknown"
         ],
         "marker": {
          "cmid": 0.5,
          "colors": [
           1,
           0.0001,
           0.999,
           0.0001,
           0.0001,
           0.0003,
           0.0001,
           0.0001,
           0.0001,
           0.0001,
           0.0001,
           0.9982,
           0.0001,
           0.0001,
           0.0001,
           0.0001,
           0.0001,
           0.0001,
           0.0001,
           0.0001,
           0.0001,
           0.0001,
           0.0001,
           0.9974,
           0.0001,
           0.0001,
           0.0001,
           0.0001,
           0.0001,
           0.0001,
           0.0001
          ],
          "colorscale": [
           [
            0,
            "rgb(103,0,31)"
           ],
           [
            0.1,
            "rgb(178,24,43)"
           ],
           [
            0.2,
            "rgb(214,96,77)"
           ],
           [
            0.3,
            "rgb(244,165,130)"
           ],
           [
            0.4,
            "rgb(253,219,199)"
           ],
           [
            0.5,
            "rgb(247,247,247)"
           ],
           [
            0.6,
            "rgb(209,229,240)"
           ],
           [
            0.7,
            "rgb(146,197,222)"
           ],
           [
            0.8,
            "rgb(67,147,195)"
           ],
           [
            0.9,
            "rgb(33,102,172)"
           ],
           [
            1,
            "rgb(5,48,97)"
           ]
          ]
         },
         "name": "",
         "parents": [
          "all",
          -1,
          -1,
          -1,
          -1,
          -1,
          -1,
          -1,
          -1,
          -1,
          19990,
          19990,
          19990,
          19990,
          19990,
          19990,
          19990,
          19990,
          19990,
          10037,
          10037,
          10037,
          19982,
          19982,
          19982,
          19982,
          19982,
          19982,
          19982,
          19982,
          19982
         ],
         "type": "treemap",
         "values": [
          10000,
          1,
          9990,
          1,
          1,
          3,
          1,
          1,
          1,
          1,
          1,
          9982,
          1,
          1,
          1,
          1,
          1,
          1,
          1,
          1,
          1,
          1,
          1,
          9974,
          1,
          1,
          1,
          1,
          1,
          1,
          1
         ]
        }
       ],
       "layout": {
        "margin": {
         "b": 10,
         "l": 10,
         "r": 10,
         "t": 10
        },
        "template": {
         "data": {
          "bar": [
           {
            "error_x": {
             "color": "#2a3f5f"
            },
            "error_y": {
             "color": "#2a3f5f"
            },
            "marker": {
             "line": {
              "color": "#E5ECF6",
              "width": 0.5
             }
            },
            "type": "bar"
           }
          ],
          "barpolar": [
           {
            "marker": {
             "line": {
              "color": "#E5ECF6",
              "width": 0.5
             }
            },
            "type": "barpolar"
           }
          ],
          "carpet": [
           {
            "aaxis": {
             "endlinecolor": "#2a3f5f",
             "gridcolor": "white",
             "linecolor": "white",
             "minorgridcolor": "white",
             "startlinecolor": "#2a3f5f"
            },
            "baxis": {
             "endlinecolor": "#2a3f5f",
             "gridcolor": "white",
             "linecolor": "white",
             "minorgridcolor": "white",
             "startlinecolor": "#2a3f5f"
            },
            "type": "carpet"
           }
          ],
          "choropleth": [
           {
            "colorbar": {
             "outlinewidth": 0,
             "ticks": ""
            },
            "type": "choropleth"
           }
          ],
          "contour": [
           {
            "colorbar": {
             "outlinewidth": 0,
             "ticks": ""
            },
            "colorscale": [
             [
              0,
              "#0d0887"
             ],
             [
              0.1111111111111111,
              "#46039f"
             ],
             [
              0.2222222222222222,
              "#7201a8"
             ],
             [
              0.3333333333333333,
              "#9c179e"
             ],
             [
              0.4444444444444444,
              "#bd3786"
             ],
             [
              0.5555555555555556,
              "#d8576b"
             ],
             [
              0.6666666666666666,
              "#ed7953"
             ],
             [
              0.7777777777777778,
              "#fb9f3a"
             ],
             [
              0.8888888888888888,
              "#fdca26"
             ],
             [
              1,
              "#f0f921"
             ]
            ],
            "type": "contour"
           }
          ],
          "contourcarpet": [
           {
            "colorbar": {
             "outlinewidth": 0,
             "ticks": ""
            },
            "type": "contourcarpet"
           }
          ],
          "heatmap": [
           {
            "colorbar": {
             "outlinewidth": 0,
             "ticks": ""
            },
            "colorscale": [
             [
              0,
              "#0d0887"
             ],
             [
              0.1111111111111111,
              "#46039f"
             ],
             [
              0.2222222222222222,
              "#7201a8"
             ],
             [
              0.3333333333333333,
              "#9c179e"
             ],
             [
              0.4444444444444444,
              "#bd3786"
             ],
             [
              0.5555555555555556,
              "#d8576b"
             ],
             [
              0.6666666666666666,
              "#ed7953"
             ],
             [
              0.7777777777777778,
              "#fb9f3a"
             ],
             [
              0.8888888888888888,
              "#fdca26"
             ],
             [
              1,
              "#f0f921"
             ]
            ],
            "type": "heatmap"
           }
          ],
          "heatmapgl": [
           {
            "colorbar": {
             "outlinewidth": 0,
             "ticks": ""
            },
            "colorscale": [
             [
              0,
              "#0d0887"
             ],
             [
              0.1111111111111111,
              "#46039f"
             ],
             [
              0.2222222222222222,
              "#7201a8"
             ],
             [
              0.3333333333333333,
              "#9c179e"
             ],
             [
              0.4444444444444444,
              "#bd3786"
             ],
             [
              0.5555555555555556,
              "#d8576b"
             ],
             [
              0.6666666666666666,
              "#ed7953"
             ],
             [
              0.7777777777777778,
              "#fb9f3a"
             ],
             [
              0.8888888888888888,
              "#fdca26"
             ],
             [
              1,
              "#f0f921"
             ]
            ],
            "type": "heatmapgl"
           }
          ],
          "histogram": [
           {
            "marker": {
             "colorbar": {
              "outlinewidth": 0,
              "ticks": ""
             }
            },
            "type": "histogram"
           }
          ],
          "histogram2d": [
           {
            "colorbar": {
             "outlinewidth": 0,
             "ticks": ""
            },
            "colorscale": [
             [
              0,
              "#0d0887"
             ],
             [
              0.1111111111111111,
              "#46039f"
             ],
             [
              0.2222222222222222,
              "#7201a8"
             ],
             [
              0.3333333333333333,
              "#9c179e"
             ],
             [
              0.4444444444444444,
              "#bd3786"
             ],
             [
              0.5555555555555556,
              "#d8576b"
             ],
             [
              0.6666666666666666,
              "#ed7953"
             ],
             [
              0.7777777777777778,
              "#fb9f3a"
             ],
             [
              0.8888888888888888,
              "#fdca26"
             ],
             [
              1,
              "#f0f921"
             ]
            ],
            "type": "histogram2d"
           }
          ],
          "histogram2dcontour": [
           {
            "colorbar": {
             "outlinewidth": 0,
             "ticks": ""
            },
            "colorscale": [
             [
              0,
              "#0d0887"
             ],
             [
              0.1111111111111111,
              "#46039f"
             ],
             [
              0.2222222222222222,
              "#7201a8"
             ],
             [
              0.3333333333333333,
              "#9c179e"
             ],
             [
              0.4444444444444444,
              "#bd3786"
             ],
             [
              0.5555555555555556,
              "#d8576b"
             ],
             [
              0.6666666666666666,
              "#ed7953"
             ],
             [
              0.7777777777777778,
              "#fb9f3a"
             ],
             [
              0.8888888888888888,
              "#fdca26"
             ],
             [
              1,
              "#f0f921"
             ]
            ],
            "type": "histogram2dcontour"
           }
          ],
          "mesh3d": [
           {
            "colorbar": {
             "outlinewidth": 0,
             "ticks": ""
            },
            "type": "mesh3d"
           }
          ],
          "parcoords": [
           {
            "line": {
             "colorbar": {
              "outlinewidth": 0,
              "ticks": ""
             }
            },
            "type": "parcoords"
           }
          ],
          "pie": [
           {
            "automargin": true,
            "type": "pie"
           }
          ],
          "scatter": [
           {
            "marker": {
             "colorbar": {
              "outlinewidth": 0,
              "ticks": ""
             }
            },
            "type": "scatter"
           }
          ],
          "scatter3d": [
           {
            "line": {
             "colorbar": {
              "outlinewidth": 0,
              "ticks": ""
             }
            },
            "marker": {
             "colorbar": {
              "outlinewidth": 0,
              "ticks": ""
             }
            },
            "type": "scatter3d"
           }
          ],
          "scattercarpet": [
           {
            "marker": {
             "colorbar": {
              "outlinewidth": 0,
              "ticks": ""
             }
            },
            "type": "scattercarpet"
           }
          ],
          "scattergeo": [
           {
            "marker": {
             "colorbar": {
              "outlinewidth": 0,
              "ticks": ""
             }
            },
            "type": "scattergeo"
           }
          ],
          "scattergl": [
           {
            "marker": {
             "colorbar": {
              "outlinewidth": 0,
              "ticks": ""
             }
            },
            "type": "scattergl"
           }
          ],
          "scattermapbox": [
           {
            "marker": {
             "colorbar": {
              "outlinewidth": 0,
              "ticks": ""
             }
            },
            "type": "scattermapbox"
           }
          ],
          "scatterpolar": [
           {
            "marker": {
             "colorbar": {
              "outlinewidth": 0,
              "ticks": ""
             }
            },
            "type": "scatterpolar"
           }
          ],
          "scatterpolargl": [
           {
            "marker": {
             "colorbar": {
              "outlinewidth": 0,
              "ticks": ""
             }
            },
            "type": "scatterpolargl"
           }
          ],
          "scatterternary": [
           {
            "marker": {
             "colorbar": {
              "outlinewidth": 0,
              "ticks": ""
             }
            },
            "type": "scatterternary"
           }
          ],
          "surface": [
           {
            "colorbar": {
             "outlinewidth": 0,
             "ticks": ""
            },
            "colorscale": [
             [
              0,
              "#0d0887"
             ],
             [
              0.1111111111111111,
              "#46039f"
             ],
             [
              0.2222222222222222,
              "#7201a8"
             ],
             [
              0.3333333333333333,
              "#9c179e"
             ],
             [
              0.4444444444444444,
              "#bd3786"
             ],
             [
              0.5555555555555556,
              "#d8576b"
             ],
             [
              0.6666666666666666,
              "#ed7953"
             ],
             [
              0.7777777777777778,
              "#fb9f3a"
             ],
             [
              0.8888888888888888,
              "#fdca26"
             ],
             [
              1,
              "#f0f921"
             ]
            ],
            "type": "surface"
           }
          ],
          "table": [
           {
            "cells": {
             "fill": {
              "color": "#EBF0F8"
             },
             "line": {
              "color": "white"
             }
            },
            "header": {
             "fill": {
              "color": "#C8D4E3"
             },
             "line": {
              "color": "white"
             }
            },
            "type": "table"
           }
          ]
         },
         "layout": {
          "annotationdefaults": {
           "arrowcolor": "#2a3f5f",
           "arrowhead": 0,
           "arrowwidth": 1
          },
          "coloraxis": {
           "colorbar": {
            "outlinewidth": 0,
            "ticks": ""
           }
          },
          "colorscale": {
           "diverging": [
            [
             0,
             "#8e0152"
            ],
            [
             0.1,
             "#c51b7d"
            ],
            [
             0.2,
             "#de77ae"
            ],
            [
             0.3,
             "#f1b6da"
            ],
            [
             0.4,
             "#fde0ef"
            ],
            [
             0.5,
             "#f7f7f7"
            ],
            [
             0.6,
             "#e6f5d0"
            ],
            [
             0.7,
             "#b8e186"
            ],
            [
             0.8,
             "#7fbc41"
            ],
            [
             0.9,
             "#4d9221"
            ],
            [
             1,
             "#276419"
            ]
           ],
           "sequential": [
            [
             0,
             "#0d0887"
            ],
            [
             0.1111111111111111,
             "#46039f"
            ],
            [
             0.2222222222222222,
             "#7201a8"
            ],
            [
             0.3333333333333333,
             "#9c179e"
            ],
            [
             0.4444444444444444,
             "#bd3786"
            ],
            [
             0.5555555555555556,
             "#d8576b"
            ],
            [
             0.6666666666666666,
             "#ed7953"
            ],
            [
             0.7777777777777778,
             "#fb9f3a"
            ],
            [
             0.8888888888888888,
             "#fdca26"
            ],
            [
             1,
             "#f0f921"
            ]
           ],
           "sequentialminus": [
            [
             0,
             "#0d0887"
            ],
            [
             0.1111111111111111,
             "#46039f"
            ],
            [
             0.2222222222222222,
             "#7201a8"
            ],
            [
             0.3333333333333333,
             "#9c179e"
            ],
            [
             0.4444444444444444,
             "#bd3786"
            ],
            [
             0.5555555555555556,
             "#d8576b"
            ],
            [
             0.6666666666666666,
             "#ed7953"
            ],
            [
             0.7777777777777778,
             "#fb9f3a"
            ],
            [
             0.8888888888888888,
             "#fdca26"
            ],
            [
             1,
             "#f0f921"
            ]
           ]
          },
          "colorway": [
           "#636efa",
           "#EF553B",
           "#00cc96",
           "#ab63fa",
           "#FFA15A",
           "#19d3f3",
           "#FF6692",
           "#B6E880",
           "#FF97FF",
           "#FECB52"
          ],
          "font": {
           "color": "#2a3f5f"
          },
          "geo": {
           "bgcolor": "white",
           "lakecolor": "white",
           "landcolor": "#E5ECF6",
           "showlakes": true,
           "showland": true,
           "subunitcolor": "white"
          },
          "hoverlabel": {
           "align": "left"
          },
          "hovermode": "closest",
          "mapbox": {
           "style": "light"
          },
          "paper_bgcolor": "white",
          "plot_bgcolor": "#E5ECF6",
          "polar": {
           "angularaxis": {
            "gridcolor": "white",
            "linecolor": "white",
            "ticks": ""
           },
           "bgcolor": "#E5ECF6",
           "radialaxis": {
            "gridcolor": "white",
            "linecolor": "white",
            "ticks": ""
           }
          },
          "scene": {
           "xaxis": {
            "backgroundcolor": "#E5ECF6",
            "gridcolor": "white",
            "gridwidth": 2,
            "linecolor": "white",
            "showbackground": true,
            "ticks": "",
            "zerolinecolor": "white"
           },
           "yaxis": {
            "backgroundcolor": "#E5ECF6",
            "gridcolor": "white",
            "gridwidth": 2,
            "linecolor": "white",
            "showbackground": true,
            "ticks": "",
            "zerolinecolor": "white"
           },
           "zaxis": {
            "backgroundcolor": "#E5ECF6",
            "gridcolor": "white",
            "gridwidth": 2,
            "linecolor": "white",
            "showbackground": true,
            "ticks": "",
            "zerolinecolor": "white"
           }
          },
          "shapedefaults": {
           "line": {
            "color": "#2a3f5f"
           }
          },
          "ternary": {
           "aaxis": {
            "gridcolor": "white",
            "linecolor": "white",
            "ticks": ""
           },
           "baxis": {
            "gridcolor": "white",
            "linecolor": "white",
            "ticks": ""
           },
           "bgcolor": "#E5ECF6",
           "caxis": {
            "gridcolor": "white",
            "linecolor": "white",
            "ticks": ""
           }
          },
          "title": {
           "x": 0.05
          },
          "xaxis": {
           "automargin": true,
           "gridcolor": "white",
           "linecolor": "white",
           "ticks": "",
           "title": {
            "standoff": 15
           },
           "zerolinecolor": "white",
           "zerolinewidth": 2
          },
          "yaxis": {
           "automargin": true,
           "gridcolor": "white",
           "linecolor": "white",
           "ticks": "",
           "title": {
            "standoff": 15
           },
           "zerolinecolor": "white",
           "zerolinewidth": 2
          }
         }
        }
       }
      },
      "text/html": [
       "<div>                            <div id=\"b66f5080-f863-4d86-98e1-aa4ed61db8d8\" class=\"plotly-graph-div\" style=\"height:525px; width:100%;\"></div>            <script type=\"text/javascript\">                require([\"plotly\"], function(Plotly) {                    window.PLOTLYENV=window.PLOTLYENV || {};                                    if (document.getElementById(\"b66f5080-f863-4d86-98e1-aa4ed61db8d8\")) {                    Plotly.newPlot(                        \"b66f5080-f863-4d86-98e1-aa4ed61db8d8\",                        [{\"branchvalues\": \"total\", \"domain\": {\"x\": [0.0, 1.0], \"y\": [0.0, 1.0]}, \"hovertemplate\": \"<b>%{label} </b> <br> Label: %{value}<br>Color: %{color:.2f}\", \"ids\": [-1, 6153, 19990, 1307, 4681, 10037, 2333, 4459, 4959, 9862, 6092, 19982, 1248, 2140, 260, 2891, 2748, 8029, 6706, 3395, 8998, 4121, 4808, 19974, 6802, 3549, 3271, 9251, 65, 3487, 1316], \"labels\": [\"all\", \"teenager martins helps inter through\", \"canberra trip boosts wastewater plan hopes\", \"hurst considers closest rivals\", \"huge increase in people caught speeding\", \"test test\", \"two major political parties join forces in austria\", \"its raining men\", \"parents seek school answers\", \"happy birthday astro boy\", \"more people downloading via broadband\", \"canberra trip boosts wastewater plan hopes\", \"cotton week to coincide with worst season\", \"tennis on collision course\", \"families confront korean president elect over\", \"paris love match looks unlikely prospect\", \"warriors wield axe\", \"kwan wins world figure skating short program\", \"madonna sweeps worst film awards\", \"test test\", \"test test\", \"test test test\", \"360 civilians killed during palestinian uprising\", \"canberra trip boosts wastewater plan hopes\", \"24 hindus killed in kashmir\", \"man injured in gas blast\", \"derby pair face court over atm incident\", \"22 dead in conflict in india\", \"hacker gains access to eight million credit cards\", \"family distressed over hospital bed wait\", \"joeys opponents still unknown\"], \"marker\": {\"cmid\": 0.5, \"colors\": [1.0, 0.0001, 0.999, 0.0001, 0.0001, 0.0003, 0.0001, 0.0001, 0.0001, 0.0001, 0.0001, 0.9982, 0.0001, 0.0001, 0.0001, 0.0001, 0.0001, 0.0001, 0.0001, 0.0001, 0.0001, 0.0001, 0.0001, 0.9974, 0.0001, 0.0001, 0.0001, 0.0001, 0.0001, 0.0001, 0.0001], \"colorscale\": [[0.0, \"rgb(103,0,31)\"], [0.1, \"rgb(178,24,43)\"], [0.2, \"rgb(214,96,77)\"], [0.3, \"rgb(244,165,130)\"], [0.4, \"rgb(253,219,199)\"], [0.5, \"rgb(247,247,247)\"], [0.6, \"rgb(209,229,240)\"], [0.7, \"rgb(146,197,222)\"], [0.8, \"rgb(67,147,195)\"], [0.9, \"rgb(33,102,172)\"], [1.0, \"rgb(5,48,97)\"]]}, \"name\": \"\", \"parents\": [\"all\", -1, -1, -1, -1, -1, -1, -1, -1, -1, 19990, 19990, 19990, 19990, 19990, 19990, 19990, 19990, 19990, 10037, 10037, 10037, 19982, 19982, 19982, 19982, 19982, 19982, 19982, 19982, 19982], \"type\": \"treemap\", \"values\": [10000, 1, 9990, 1, 1, 3, 1, 1, 1, 1, 1, 9982, 1, 1, 1, 1, 1, 1, 1, 1, 1, 1, 1, 9974, 1, 1, 1, 1, 1, 1, 1]}],                        {\"margin\": {\"b\": 10, \"l\": 10, \"r\": 10, \"t\": 10}, \"template\": {\"data\": {\"bar\": [{\"error_x\": {\"color\": \"#2a3f5f\"}, \"error_y\": {\"color\": \"#2a3f5f\"}, \"marker\": {\"line\": {\"color\": \"#E5ECF6\", \"width\": 0.5}}, \"type\": \"bar\"}], \"barpolar\": [{\"marker\": {\"line\": {\"color\": \"#E5ECF6\", \"width\": 0.5}}, \"type\": \"barpolar\"}], \"carpet\": [{\"aaxis\": {\"endlinecolor\": \"#2a3f5f\", \"gridcolor\": \"white\", \"linecolor\": \"white\", \"minorgridcolor\": \"white\", \"startlinecolor\": \"#2a3f5f\"}, \"baxis\": {\"endlinecolor\": \"#2a3f5f\", \"gridcolor\": \"white\", \"linecolor\": \"white\", \"minorgridcolor\": \"white\", \"startlinecolor\": \"#2a3f5f\"}, \"type\": \"carpet\"}], \"choropleth\": [{\"colorbar\": {\"outlinewidth\": 0, \"ticks\": \"\"}, \"type\": \"choropleth\"}], \"contour\": [{\"colorbar\": {\"outlinewidth\": 0, \"ticks\": \"\"}, \"colorscale\": [[0.0, \"#0d0887\"], [0.1111111111111111, \"#46039f\"], [0.2222222222222222, \"#7201a8\"], [0.3333333333333333, \"#9c179e\"], [0.4444444444444444, \"#bd3786\"], [0.5555555555555556, \"#d8576b\"], [0.6666666666666666, \"#ed7953\"], [0.7777777777777778, \"#fb9f3a\"], [0.8888888888888888, \"#fdca26\"], [1.0, \"#f0f921\"]], \"type\": \"contour\"}], \"contourcarpet\": [{\"colorbar\": {\"outlinewidth\": 0, \"ticks\": \"\"}, \"type\": \"contourcarpet\"}], \"heatmap\": [{\"colorbar\": {\"outlinewidth\": 0, \"ticks\": \"\"}, \"colorscale\": [[0.0, \"#0d0887\"], [0.1111111111111111, \"#46039f\"], [0.2222222222222222, \"#7201a8\"], [0.3333333333333333, \"#9c179e\"], [0.4444444444444444, \"#bd3786\"], [0.5555555555555556, \"#d8576b\"], [0.6666666666666666, \"#ed7953\"], [0.7777777777777778, \"#fb9f3a\"], [0.8888888888888888, \"#fdca26\"], [1.0, \"#f0f921\"]], \"type\": \"heatmap\"}], \"heatmapgl\": [{\"colorbar\": {\"outlinewidth\": 0, \"ticks\": \"\"}, \"colorscale\": [[0.0, \"#0d0887\"], [0.1111111111111111, \"#46039f\"], [0.2222222222222222, \"#7201a8\"], [0.3333333333333333, \"#9c179e\"], [0.4444444444444444, \"#bd3786\"], [0.5555555555555556, \"#d8576b\"], [0.6666666666666666, \"#ed7953\"], [0.7777777777777778, \"#fb9f3a\"], [0.8888888888888888, \"#fdca26\"], [1.0, \"#f0f921\"]], \"type\": \"heatmapgl\"}], \"histogram\": [{\"marker\": {\"colorbar\": {\"outlinewidth\": 0, \"ticks\": \"\"}}, \"type\": \"histogram\"}], \"histogram2d\": [{\"colorbar\": {\"outlinewidth\": 0, \"ticks\": \"\"}, \"colorscale\": [[0.0, \"#0d0887\"], [0.1111111111111111, \"#46039f\"], [0.2222222222222222, \"#7201a8\"], [0.3333333333333333, \"#9c179e\"], [0.4444444444444444, \"#bd3786\"], [0.5555555555555556, \"#d8576b\"], [0.6666666666666666, \"#ed7953\"], [0.7777777777777778, \"#fb9f3a\"], [0.8888888888888888, \"#fdca26\"], [1.0, \"#f0f921\"]], \"type\": \"histogram2d\"}], \"histogram2dcontour\": [{\"colorbar\": {\"outlinewidth\": 0, \"ticks\": \"\"}, \"colorscale\": [[0.0, \"#0d0887\"], [0.1111111111111111, \"#46039f\"], [0.2222222222222222, \"#7201a8\"], [0.3333333333333333, \"#9c179e\"], [0.4444444444444444, \"#bd3786\"], [0.5555555555555556, \"#d8576b\"], [0.6666666666666666, \"#ed7953\"], [0.7777777777777778, \"#fb9f3a\"], [0.8888888888888888, \"#fdca26\"], [1.0, \"#f0f921\"]], \"type\": \"histogram2dcontour\"}], \"mesh3d\": [{\"colorbar\": {\"outlinewidth\": 0, \"ticks\": \"\"}, \"type\": \"mesh3d\"}], \"parcoords\": [{\"line\": {\"colorbar\": {\"outlinewidth\": 0, \"ticks\": \"\"}}, \"type\": \"parcoords\"}], \"pie\": [{\"automargin\": true, \"type\": \"pie\"}], \"scatter\": [{\"marker\": {\"colorbar\": {\"outlinewidth\": 0, \"ticks\": \"\"}}, \"type\": \"scatter\"}], \"scatter3d\": [{\"line\": {\"colorbar\": {\"outlinewidth\": 0, \"ticks\": \"\"}}, \"marker\": {\"colorbar\": {\"outlinewidth\": 0, \"ticks\": \"\"}}, \"type\": \"scatter3d\"}], \"scattercarpet\": [{\"marker\": {\"colorbar\": {\"outlinewidth\": 0, \"ticks\": \"\"}}, \"type\": \"scattercarpet\"}], \"scattergeo\": [{\"marker\": {\"colorbar\": {\"outlinewidth\": 0, \"ticks\": \"\"}}, \"type\": \"scattergeo\"}], \"scattergl\": [{\"marker\": {\"colorbar\": {\"outlinewidth\": 0, \"ticks\": \"\"}}, \"type\": \"scattergl\"}], \"scattermapbox\": [{\"marker\": {\"colorbar\": {\"outlinewidth\": 0, \"ticks\": \"\"}}, \"type\": \"scattermapbox\"}], \"scatterpolar\": [{\"marker\": {\"colorbar\": {\"outlinewidth\": 0, \"ticks\": \"\"}}, \"type\": \"scatterpolar\"}], \"scatterpolargl\": [{\"marker\": {\"colorbar\": {\"outlinewidth\": 0, \"ticks\": \"\"}}, \"type\": \"scatterpolargl\"}], \"scatterternary\": [{\"marker\": {\"colorbar\": {\"outlinewidth\": 0, \"ticks\": \"\"}}, \"type\": \"scatterternary\"}], \"surface\": [{\"colorbar\": {\"outlinewidth\": 0, \"ticks\": \"\"}, \"colorscale\": [[0.0, \"#0d0887\"], [0.1111111111111111, \"#46039f\"], [0.2222222222222222, \"#7201a8\"], [0.3333333333333333, \"#9c179e\"], [0.4444444444444444, \"#bd3786\"], [0.5555555555555556, \"#d8576b\"], [0.6666666666666666, \"#ed7953\"], [0.7777777777777778, \"#fb9f3a\"], [0.8888888888888888, \"#fdca26\"], [1.0, \"#f0f921\"]], \"type\": \"surface\"}], \"table\": [{\"cells\": {\"fill\": {\"color\": \"#EBF0F8\"}, \"line\": {\"color\": \"white\"}}, \"header\": {\"fill\": {\"color\": \"#C8D4E3\"}, \"line\": {\"color\": \"white\"}}, \"type\": \"table\"}]}, \"layout\": {\"annotationdefaults\": {\"arrowcolor\": \"#2a3f5f\", \"arrowhead\": 0, \"arrowwidth\": 1}, \"coloraxis\": {\"colorbar\": {\"outlinewidth\": 0, \"ticks\": \"\"}}, \"colorscale\": {\"diverging\": [[0, \"#8e0152\"], [0.1, \"#c51b7d\"], [0.2, \"#de77ae\"], [0.3, \"#f1b6da\"], [0.4, \"#fde0ef\"], [0.5, \"#f7f7f7\"], [0.6, \"#e6f5d0\"], [0.7, \"#b8e186\"], [0.8, \"#7fbc41\"], [0.9, \"#4d9221\"], [1, \"#276419\"]], \"sequential\": [[0.0, \"#0d0887\"], [0.1111111111111111, \"#46039f\"], [0.2222222222222222, \"#7201a8\"], [0.3333333333333333, \"#9c179e\"], [0.4444444444444444, \"#bd3786\"], [0.5555555555555556, \"#d8576b\"], [0.6666666666666666, \"#ed7953\"], [0.7777777777777778, \"#fb9f3a\"], [0.8888888888888888, \"#fdca26\"], [1.0, \"#f0f921\"]], \"sequentialminus\": [[0.0, \"#0d0887\"], [0.1111111111111111, \"#46039f\"], [0.2222222222222222, \"#7201a8\"], [0.3333333333333333, \"#9c179e\"], [0.4444444444444444, \"#bd3786\"], [0.5555555555555556, \"#d8576b\"], [0.6666666666666666, \"#ed7953\"], [0.7777777777777778, \"#fb9f3a\"], [0.8888888888888888, \"#fdca26\"], [1.0, \"#f0f921\"]]}, \"colorway\": [\"#636efa\", \"#EF553B\", \"#00cc96\", \"#ab63fa\", \"#FFA15A\", \"#19d3f3\", \"#FF6692\", \"#B6E880\", \"#FF97FF\", \"#FECB52\"], \"font\": {\"color\": \"#2a3f5f\"}, \"geo\": {\"bgcolor\": \"white\", \"lakecolor\": \"white\", \"landcolor\": \"#E5ECF6\", \"showlakes\": true, \"showland\": true, \"subunitcolor\": \"white\"}, \"hoverlabel\": {\"align\": \"left\"}, \"hovermode\": \"closest\", \"mapbox\": {\"style\": \"light\"}, \"paper_bgcolor\": \"white\", \"plot_bgcolor\": \"#E5ECF6\", \"polar\": {\"angularaxis\": {\"gridcolor\": \"white\", \"linecolor\": \"white\", \"ticks\": \"\"}, \"bgcolor\": \"#E5ECF6\", \"radialaxis\": {\"gridcolor\": \"white\", \"linecolor\": \"white\", \"ticks\": \"\"}}, \"scene\": {\"xaxis\": {\"backgroundcolor\": \"#E5ECF6\", \"gridcolor\": \"white\", \"gridwidth\": 2, \"linecolor\": \"white\", \"showbackground\": true, \"ticks\": \"\", \"zerolinecolor\": \"white\"}, \"yaxis\": {\"backgroundcolor\": \"#E5ECF6\", \"gridcolor\": \"white\", \"gridwidth\": 2, \"linecolor\": \"white\", \"showbackground\": true, \"ticks\": \"\", \"zerolinecolor\": \"white\"}, \"zaxis\": {\"backgroundcolor\": \"#E5ECF6\", \"gridcolor\": \"white\", \"gridwidth\": 2, \"linecolor\": \"white\", \"showbackground\": true, \"ticks\": \"\", \"zerolinecolor\": \"white\"}}, \"shapedefaults\": {\"line\": {\"color\": \"#2a3f5f\"}}, \"ternary\": {\"aaxis\": {\"gridcolor\": \"white\", \"linecolor\": \"white\", \"ticks\": \"\"}, \"baxis\": {\"gridcolor\": \"white\", \"linecolor\": \"white\", \"ticks\": \"\"}, \"bgcolor\": \"#E5ECF6\", \"caxis\": {\"gridcolor\": \"white\", \"linecolor\": \"white\", \"ticks\": \"\"}}, \"title\": {\"x\": 0.05}, \"xaxis\": {\"automargin\": true, \"gridcolor\": \"white\", \"linecolor\": \"white\", \"ticks\": \"\", \"title\": {\"standoff\": 15}, \"zerolinecolor\": \"white\", \"zerolinewidth\": 2}, \"yaxis\": {\"automargin\": true, \"gridcolor\": \"white\", \"linecolor\": \"white\", \"ticks\": \"\", \"title\": {\"standoff\": 15}, \"zerolinecolor\": \"white\", \"zerolinewidth\": 2}}}},                        {\"responsive\": true}                    ).then(function(){\n",
       "                            \n",
       "var gd = document.getElementById('b66f5080-f863-4d86-98e1-aa4ed61db8d8');\n",
       "var x = new MutationObserver(function (mutations, observer) {{\n",
       "        var display = window.getComputedStyle(gd).display;\n",
       "        if (!display || display === 'none') {{\n",
       "            console.log([gd, 'removed!']);\n",
       "            Plotly.purge(gd);\n",
       "            observer.disconnect();\n",
       "        }}\n",
       "}});\n",
       "\n",
       "// Listen for the removal of the full notebook cells\n",
       "var notebookContainer = gd.closest('#notebook-container');\n",
       "if (notebookContainer) {{\n",
       "    x.observe(notebookContainer, {childList: true});\n",
       "}}\n",
       "\n",
       "// Listen for the clearing of the current output cell\n",
       "var outputEl = gd.closest('.output');\n",
       "if (outputEl) {{\n",
       "    x.observe(outputEl, {childList: true});\n",
       "}}\n",
       "\n",
       "                        })                };                });            </script>        </div>"
      ]
     },
     "metadata": {},
     "output_type": "display_data"
    }
   ],
   "source": [
    "#Centroid\n",
    "build_tree_map(df_res)"
   ]
  },
  {
   "cell_type": "code",
   "execution_count": 96,
   "metadata": {},
   "outputs": [
    {
     "data": {
      "application/vnd.plotly.v1+json": {
       "config": {
        "plotlyServerURL": "https://plot.ly"
       },
       "data": [
        {
         "branchvalues": "total",
         "domain": {
          "x": [
           0,
           1
          ],
          "y": [
           0,
           1
          ]
         },
         "hovertemplate": "<b>%{label} </b> <br> Label: %{value}<br>Color: %{color:.2f}",
         "ids": [
          -1,
          19880,
          19990,
          7981,
          19906,
          19980,
          19989,
          19167,
          16666,
          19896,
          18645,
          19553,
          16872,
          19971,
          19981,
          19972,
          19976,
          19855,
          19973,
          19979,
          19961,
          19966,
          6285,
          8726,
          4808,
          19568,
          19782,
          19800,
          19433,
          19770,
          19642,
          15607,
          17843,
          6752,
          4121,
          10022,
          3823,
          7010,
          8029,
          9863,
          4438,
          5574,
          4714,
          17835,
          18657,
          18557,
          457,
          3468,
          4113,
          19024,
          19358,
          18039,
          18296,
          127,
          17143,
          17371,
          19429,
          19402,
          19947,
          19953,
          19904,
          19963,
          19884,
          19951,
          19950,
          19895,
          19640,
          19815,
          19917,
          19948,
          19932,
          19933,
          19897,
          19934,
          19925,
          19859,
          19847,
          15326,
          19890,
          18611,
          18909,
          18476,
          19297,
          19510,
          18935,
          19381,
          8430,
          19264,
          18978,
          19380,
          18565,
          17451,
          18541,
          17349,
          18613,
          19062,
          16545,
          18609,
          19110,
          18618,
          19711,
          19900,
          19840,
          19083,
          19146,
          18874,
          19223,
          19137,
          19443,
          19624,
          2333,
          19216,
          17552,
          18171,
          19078,
          18411,
          18775,
          19121,
          5321,
          16672,
          19159,
          10352,
          17765,
          17094,
          16359,
          18168,
          18302,
          18484,
          18991,
          18544,
          19026,
          14013,
          2185,
          13443,
          17827,
          18817,
          9134,
          9277,
          2748,
          7055,
          5453,
          3395,
          8998
         ],
         "labels": [
          "all",
          "snowtown murder trial reveals more chilling",
          "canberra trip boosts wastewater plan hopes",
          "daylight saving time ends sunday",
          "lightning blamed for blackout",
          "us air force satellite blasts into space",
          "death toll in china quake rises",
          "butchers sharpen knives for sausage king title",
          "test test",
          "kwan wins world figure skating short program",
          "great lakes freeze for first time in years",
          "snowtown murder trial reveals more chilling",
          "antarctic rocks could aid global warming",
          "ogara recalled for france clash",
          "canberra trip boosts wastewater plan hopes",
          "ton up marillier fires zimbabwe past kenya",
          "gebrselassie plans world record comeback",
          "war muted oscars begin in hollywood",
          "legal embryo stem cell research one step closer in",
          "teenager charged over alleged crossbow attack",
          "carpentaria gold completes 20m purchase",
          "two jailed for life over elderly womans death",
          "lightning blamed for blackout",
          "more fires sparked by lightning",
          "360 civilians killed during palestinian uprising",
          "us satellites to monitor shuttle missions",
          "astronomers pinpoint huge cosmic blast",
          "schnyders slide continues dechy advances",
          "earthquake death toll rises to 257",
          "death toll in china quake rises",
          "cricket fans welcome home world cup champions",
          "butchers sharpen knives for sausage king title",
          "warriors wield axe",
          "siege follows double stabbing",
          "test test test",
          "test test",
          "hussain calls for separate one day and test",
          "us aiming for figure skating clean sweep",
          "kwan wins world figure skating short program",
          "hat trick for fashion designer",
          "great lakes freeze for first time in years",
          "esso fined over freezer incident",
          "millions of dollars to be spent on protecting lakes",
          "smigun takes out nordic skiing world championship",
          "snowtown murder trial reveals more chilling",
          "autumn brings cold comfort to vic",
          "antarctic rocks could aid global warming",
          "cool response given to antarctic positions",
          "stranded americans rescued from antarctica",
          "france confirms opposition to second resolution",
          "marseille lure psg into velodrome cauldron",
          "egyptian parliament extends emergency laws by",
          "pharaohs stay alive in african nations cup",
          "peace agreement may bring respite for venezuela",
          "annan meets cyprus leaders over reunification",
          "cambodia cabinet okays khmer rouge trials",
          "thanksgiving service held for vietnam veterans",
          "bega contest heating up",
          "dizzy says all systems go for windies tour",
          "new ferries credited with tas tourism boost",
          "deal to fast track oil gas development",
          "bushfire appeal chief defends allocation assessment",
          "atsic leader faces court over pub brawl",
          "man jailed over role in fatal assault",
          "human shields on their way home",
          "mining companies addressing worker concerns",
          "reed boat crew set to embark on historic voyage",
          "ton up marillier fires zimbabwe past kenya",
          "60 dead after bangladeshi boat accident",
          "four us soldiers killed in helicopter crash",
          "gebrselassie plans world record comeback",
          "bryant leads lakers to double overtime win",
          "elber double sends bayern into german cup final",
          "liverpool hoping to dent uniteds trophy charge",
          "odriscoll captures record as ireland downs italy",
          "hewitt leads australian charge in arizona",
          "raikkonen puts mclaren on top in practice",
          "bali survivor mccartney returns",
          "tour of valencia third stage leading",
          "tight security for crowe wedding",
          "dracula not afraid of war",
          "war muted oscars begin in hollywood",
          "new hiv prevention drug approved in the us",
          "treatment may trigger diabetes inhibitions",
          "researchers looking to engage students in science",
          "prestigious science research fellowships announced",
          "fossil find offers new evidence of dinosaur",
          "program underway to fight park weed",
          "blokes peel off pants for peace",
          "naked rain dancers to get protection from glaring",
          "artist to buy more paint with prize money",
          "students shot with crossbow",
          "toddler shot in the eye with air rifle",
          "coming out festival for children kicks off in",
          "young at heart seeks date for her 105th birthday",
          "teenager jailed for canberra arson",
          "man faces court over bow and arrow threat",
          "boy injured in ballooning accident",
          "vandals target tingha school",
          "teenager martins helps inter through",
          "uk police release eight arrested in anti terrorist",
          "queensland rail wins 200m tender",
          "arson attacks increase by 20pc",
          "swans duo extend contracts",
          "wife on murder charge gets bail",
          "grant elected for second mayoral term",
          "two women found dead in unit",
          "english pair set for aus open title",
          "woman dies in car crash",
          "webb favourite for ladies masters",
          "two major political parties join forces in austria",
          "pair face court over machete attack",
          "shuttle flight data recorder found",
          "no malice or complacency in columbia tragedy nasa",
          "change of plan for nasa balloon",
          "iaea begins iran nuclear assessment",
          "oil depot hit by rocket in south west iran",
          "huge cosmic burst delights astronomers",
          "chamber welcomes fast eddys news",
          "schnyders slide continues dechy advances",
          "rios shocks ferrero",
          "earthquake kills 158 injures thousands",
          "earthquake jolts northern pakistan",
          "china quake aftershocks take death toll to 266",
          "searchers fear 18 dead after china ferry sinks",
          "taiwan tourist train crashes",
          "china mine blast leaves 20 dead 52 trapped",
          "experts to investigate chinese link to mystery",
          "death toll in china quake rises",
          "china to name new president",
          "taiwan to beef up missile defense system",
          "babies in bags all from one china city",
          "all flights grounded at tokyo airport",
          "softballers qualify for olympics",
          "cricket fans welcome home world cup champions",
          "police probe home invasion",
          "knives replace guns as weapon of choice report",
          "butchers sharpen knives for sausage king title",
          "warriors wield axe",
          "basra uprising fought with axes and knives",
          "race meetings face the axe",
          "test test",
          "test test"
         ],
         "marker": {
          "cmid": 0.5,
          "colors": [
           1,
           0.0026,
           0.9856,
           0.0001,
           0.0003,
           0.0034,
           0.0067,
           0.0006,
           0.0004,
           0.0003,
           0.0003,
           0.002,
           0.0003,
           0.0072,
           0.7961,
           0.0207,
           0.127,
           0.0014,
           0.0067,
           0.005,
           0.0064,
           0.0151,
           0.0001,
           0.0001,
           0.0001,
           0.0012,
           0.0016,
           0.0006,
           0.0008,
           0.0046,
           0.0013,
           0.0002,
           0.0003,
           0.0001,
           0.0001,
           0.0002,
           0.0001,
           0.0001,
           0.0001,
           0.0001,
           0.0001,
           0.0001,
           0.0001,
           0.0003,
           0.0012,
           0.0005,
           0.0001,
           0.0001,
           0.0001,
           0.0037,
           0.0008,
           0.0002,
           0.0003,
           0.0001,
           0.0004,
           0.0007,
           0.0003,
           0.0007,
           0.0009,
           0.0366,
           0.0221,
           0.6423,
           0.0051,
           0.0759,
           0.0014,
           0.0102,
           0.0016,
           0.008,
           0.0032,
           0.0095,
           0.0728,
           0.0045,
           0.0044,
           0.0124,
           0.013,
           0.0024,
           0.0047,
           0.0003,
           0.0125,
           0.0004,
           0.0003,
           0.0007,
           0.0019,
           0.0003,
           0.0012,
           0.0006,
           0.0001,
           0.0009,
           0.0002,
           0.0011,
           0.0004,
           0.0007,
           0.0003,
           0.0004,
           0.0003,
           0.0019,
           0.0003,
           0.0004,
           0.0005,
           0.0002,
           0.0029,
           0.0022,
           0.0013,
           0.0009,
           0.002,
           0.001,
           0.0038,
           0.0003,
           0.0043,
           0.0019,
           0.0001,
           0.0008,
           0.0007,
           0.0002,
           0.0003,
           0.0005,
           0.0005,
           0.0006,
           0.0001,
           0.0002,
           0.0003,
           0.0002,
           0.0002,
           0.0004,
           0.0003,
           0.0005,
           0.0006,
           0.0006,
           0.0012,
           0.0007,
           0.0004,
           0.0002,
           0.0001,
           0.0003,
           0.0006,
           0.0004,
           0.0001,
           0.0001,
           0.0001,
           0.0001,
           0.0001,
           0.0001,
           0.0001
          ],
          "colorscale": [
           [
            0,
            "rgb(103,0,31)"
           ],
           [
            0.1,
            "rgb(178,24,43)"
           ],
           [
            0.2,
            "rgb(214,96,77)"
           ],
           [
            0.3,
            "rgb(244,165,130)"
           ],
           [
            0.4,
            "rgb(253,219,199)"
           ],
           [
            0.5,
            "rgb(247,247,247)"
           ],
           [
            0.6,
            "rgb(209,229,240)"
           ],
           [
            0.7,
            "rgb(146,197,222)"
           ],
           [
            0.8,
            "rgb(67,147,195)"
           ],
           [
            0.9,
            "rgb(33,102,172)"
           ],
           [
            1,
            "rgb(5,48,97)"
           ]
          ]
         },
         "maxdepth": 3,
         "name": "",
         "parents": [
          "all",
          -1,
          -1,
          -1,
          -1,
          -1,
          -1,
          -1,
          -1,
          -1,
          19880,
          19880,
          19880,
          19990,
          19990,
          19990,
          19990,
          19990,
          19990,
          19990,
          19990,
          19990,
          19906,
          19906,
          19906,
          19980,
          19980,
          19980,
          19989,
          19989,
          19989,
          19167,
          19167,
          19167,
          16666,
          16666,
          16666,
          19896,
          19896,
          19896,
          18645,
          18645,
          18645,
          19553,
          19553,
          19553,
          16872,
          16872,
          16872,
          19971,
          19971,
          19971,
          19971,
          19971,
          19971,
          19971,
          19971,
          19971,
          19981,
          19981,
          19981,
          19981,
          19981,
          19981,
          19981,
          19981,
          19981,
          19972,
          19972,
          19972,
          19976,
          19976,
          19976,
          19976,
          19976,
          19976,
          19976,
          19976,
          19976,
          19855,
          19855,
          19855,
          19973,
          19973,
          19973,
          19973,
          19973,
          19973,
          19973,
          19973,
          19973,
          19979,
          19979,
          19979,
          19979,
          19979,
          19979,
          19979,
          19979,
          19979,
          19961,
          19961,
          19961,
          19966,
          19966,
          19966,
          19966,
          19966,
          19966,
          19966,
          19966,
          19966,
          19568,
          19568,
          19568,
          19782,
          19782,
          19782,
          19800,
          19800,
          19800,
          19433,
          19433,
          19433,
          19770,
          19770,
          19770,
          19770,
          19770,
          19770,
          19770,
          19770,
          19770,
          19642,
          19642,
          19642,
          15607,
          15607,
          17843,
          17843,
          17843,
          10022,
          10022
         ],
         "type": "treemap",
         "values": [
          10000,
          26,
          9856,
          1,
          3,
          34,
          67,
          6,
          4,
          3,
          3,
          20,
          3,
          72,
          7961,
          207,
          1270,
          14,
          67,
          50,
          64,
          151,
          1,
          1,
          1,
          12,
          16,
          6,
          8,
          46,
          13,
          2,
          3,
          1,
          1,
          2,
          1,
          1,
          1,
          1,
          1,
          1,
          1,
          3,
          12,
          5,
          1,
          1,
          1,
          37,
          8,
          2,
          3,
          1,
          4,
          7,
          3,
          7,
          9,
          366,
          221,
          6423,
          51,
          759,
          14,
          102,
          16,
          80,
          32,
          95,
          728,
          45,
          44,
          124,
          130,
          24,
          47,
          3,
          125,
          4,
          3,
          7,
          19,
          3,
          12,
          6,
          1,
          9,
          2,
          11,
          4,
          7,
          3,
          4,
          3,
          19,
          3,
          4,
          5,
          2,
          29,
          22,
          13,
          9,
          20,
          10,
          38,
          3,
          43,
          19,
          1,
          8,
          7,
          2,
          3,
          5,
          5,
          6,
          1,
          2,
          3,
          2,
          2,
          4,
          3,
          5,
          6,
          6,
          12,
          7,
          4,
          2,
          1,
          3,
          6,
          4,
          1,
          1,
          1,
          1,
          1,
          1,
          1
         ]
        }
       ],
       "layout": {
        "margin": {
         "b": 10,
         "l": 10,
         "r": 10,
         "t": 10
        },
        "template": {
         "data": {
          "bar": [
           {
            "error_x": {
             "color": "#2a3f5f"
            },
            "error_y": {
             "color": "#2a3f5f"
            },
            "marker": {
             "line": {
              "color": "#E5ECF6",
              "width": 0.5
             }
            },
            "type": "bar"
           }
          ],
          "barpolar": [
           {
            "marker": {
             "line": {
              "color": "#E5ECF6",
              "width": 0.5
             }
            },
            "type": "barpolar"
           }
          ],
          "carpet": [
           {
            "aaxis": {
             "endlinecolor": "#2a3f5f",
             "gridcolor": "white",
             "linecolor": "white",
             "minorgridcolor": "white",
             "startlinecolor": "#2a3f5f"
            },
            "baxis": {
             "endlinecolor": "#2a3f5f",
             "gridcolor": "white",
             "linecolor": "white",
             "minorgridcolor": "white",
             "startlinecolor": "#2a3f5f"
            },
            "type": "carpet"
           }
          ],
          "choropleth": [
           {
            "colorbar": {
             "outlinewidth": 0,
             "ticks": ""
            },
            "type": "choropleth"
           }
          ],
          "contour": [
           {
            "colorbar": {
             "outlinewidth": 0,
             "ticks": ""
            },
            "colorscale": [
             [
              0,
              "#0d0887"
             ],
             [
              0.1111111111111111,
              "#46039f"
             ],
             [
              0.2222222222222222,
              "#7201a8"
             ],
             [
              0.3333333333333333,
              "#9c179e"
             ],
             [
              0.4444444444444444,
              "#bd3786"
             ],
             [
              0.5555555555555556,
              "#d8576b"
             ],
             [
              0.6666666666666666,
              "#ed7953"
             ],
             [
              0.7777777777777778,
              "#fb9f3a"
             ],
             [
              0.8888888888888888,
              "#fdca26"
             ],
             [
              1,
              "#f0f921"
             ]
            ],
            "type": "contour"
           }
          ],
          "contourcarpet": [
           {
            "colorbar": {
             "outlinewidth": 0,
             "ticks": ""
            },
            "type": "contourcarpet"
           }
          ],
          "heatmap": [
           {
            "colorbar": {
             "outlinewidth": 0,
             "ticks": ""
            },
            "colorscale": [
             [
              0,
              "#0d0887"
             ],
             [
              0.1111111111111111,
              "#46039f"
             ],
             [
              0.2222222222222222,
              "#7201a8"
             ],
             [
              0.3333333333333333,
              "#9c179e"
             ],
             [
              0.4444444444444444,
              "#bd3786"
             ],
             [
              0.5555555555555556,
              "#d8576b"
             ],
             [
              0.6666666666666666,
              "#ed7953"
             ],
             [
              0.7777777777777778,
              "#fb9f3a"
             ],
             [
              0.8888888888888888,
              "#fdca26"
             ],
             [
              1,
              "#f0f921"
             ]
            ],
            "type": "heatmap"
           }
          ],
          "heatmapgl": [
           {
            "colorbar": {
             "outlinewidth": 0,
             "ticks": ""
            },
            "colorscale": [
             [
              0,
              "#0d0887"
             ],
             [
              0.1111111111111111,
              "#46039f"
             ],
             [
              0.2222222222222222,
              "#7201a8"
             ],
             [
              0.3333333333333333,
              "#9c179e"
             ],
             [
              0.4444444444444444,
              "#bd3786"
             ],
             [
              0.5555555555555556,
              "#d8576b"
             ],
             [
              0.6666666666666666,
              "#ed7953"
             ],
             [
              0.7777777777777778,
              "#fb9f3a"
             ],
             [
              0.8888888888888888,
              "#fdca26"
             ],
             [
              1,
              "#f0f921"
             ]
            ],
            "type": "heatmapgl"
           }
          ],
          "histogram": [
           {
            "marker": {
             "colorbar": {
              "outlinewidth": 0,
              "ticks": ""
             }
            },
            "type": "histogram"
           }
          ],
          "histogram2d": [
           {
            "colorbar": {
             "outlinewidth": 0,
             "ticks": ""
            },
            "colorscale": [
             [
              0,
              "#0d0887"
             ],
             [
              0.1111111111111111,
              "#46039f"
             ],
             [
              0.2222222222222222,
              "#7201a8"
             ],
             [
              0.3333333333333333,
              "#9c179e"
             ],
             [
              0.4444444444444444,
              "#bd3786"
             ],
             [
              0.5555555555555556,
              "#d8576b"
             ],
             [
              0.6666666666666666,
              "#ed7953"
             ],
             [
              0.7777777777777778,
              "#fb9f3a"
             ],
             [
              0.8888888888888888,
              "#fdca26"
             ],
             [
              1,
              "#f0f921"
             ]
            ],
            "type": "histogram2d"
           }
          ],
          "histogram2dcontour": [
           {
            "colorbar": {
             "outlinewidth": 0,
             "ticks": ""
            },
            "colorscale": [
             [
              0,
              "#0d0887"
             ],
             [
              0.1111111111111111,
              "#46039f"
             ],
             [
              0.2222222222222222,
              "#7201a8"
             ],
             [
              0.3333333333333333,
              "#9c179e"
             ],
             [
              0.4444444444444444,
              "#bd3786"
             ],
             [
              0.5555555555555556,
              "#d8576b"
             ],
             [
              0.6666666666666666,
              "#ed7953"
             ],
             [
              0.7777777777777778,
              "#fb9f3a"
             ],
             [
              0.8888888888888888,
              "#fdca26"
             ],
             [
              1,
              "#f0f921"
             ]
            ],
            "type": "histogram2dcontour"
           }
          ],
          "mesh3d": [
           {
            "colorbar": {
             "outlinewidth": 0,
             "ticks": ""
            },
            "type": "mesh3d"
           }
          ],
          "parcoords": [
           {
            "line": {
             "colorbar": {
              "outlinewidth": 0,
              "ticks": ""
             }
            },
            "type": "parcoords"
           }
          ],
          "pie": [
           {
            "automargin": true,
            "type": "pie"
           }
          ],
          "scatter": [
           {
            "marker": {
             "colorbar": {
              "outlinewidth": 0,
              "ticks": ""
             }
            },
            "type": "scatter"
           }
          ],
          "scatter3d": [
           {
            "line": {
             "colorbar": {
              "outlinewidth": 0,
              "ticks": ""
             }
            },
            "marker": {
             "colorbar": {
              "outlinewidth": 0,
              "ticks": ""
             }
            },
            "type": "scatter3d"
           }
          ],
          "scattercarpet": [
           {
            "marker": {
             "colorbar": {
              "outlinewidth": 0,
              "ticks": ""
             }
            },
            "type": "scattercarpet"
           }
          ],
          "scattergeo": [
           {
            "marker": {
             "colorbar": {
              "outlinewidth": 0,
              "ticks": ""
             }
            },
            "type": "scattergeo"
           }
          ],
          "scattergl": [
           {
            "marker": {
             "colorbar": {
              "outlinewidth": 0,
              "ticks": ""
             }
            },
            "type": "scattergl"
           }
          ],
          "scattermapbox": [
           {
            "marker": {
             "colorbar": {
              "outlinewidth": 0,
              "ticks": ""
             }
            },
            "type": "scattermapbox"
           }
          ],
          "scatterpolar": [
           {
            "marker": {
             "colorbar": {
              "outlinewidth": 0,
              "ticks": ""
             }
            },
            "type": "scatterpolar"
           }
          ],
          "scatterpolargl": [
           {
            "marker": {
             "colorbar": {
              "outlinewidth": 0,
              "ticks": ""
             }
            },
            "type": "scatterpolargl"
           }
          ],
          "scatterternary": [
           {
            "marker": {
             "colorbar": {
              "outlinewidth": 0,
              "ticks": ""
             }
            },
            "type": "scatterternary"
           }
          ],
          "surface": [
           {
            "colorbar": {
             "outlinewidth": 0,
             "ticks": ""
            },
            "colorscale": [
             [
              0,
              "#0d0887"
             ],
             [
              0.1111111111111111,
              "#46039f"
             ],
             [
              0.2222222222222222,
              "#7201a8"
             ],
             [
              0.3333333333333333,
              "#9c179e"
             ],
             [
              0.4444444444444444,
              "#bd3786"
             ],
             [
              0.5555555555555556,
              "#d8576b"
             ],
             [
              0.6666666666666666,
              "#ed7953"
             ],
             [
              0.7777777777777778,
              "#fb9f3a"
             ],
             [
              0.8888888888888888,
              "#fdca26"
             ],
             [
              1,
              "#f0f921"
             ]
            ],
            "type": "surface"
           }
          ],
          "table": [
           {
            "cells": {
             "fill": {
              "color": "#EBF0F8"
             },
             "line": {
              "color": "white"
             }
            },
            "header": {
             "fill": {
              "color": "#C8D4E3"
             },
             "line": {
              "color": "white"
             }
            },
            "type": "table"
           }
          ]
         },
         "layout": {
          "annotationdefaults": {
           "arrowcolor": "#2a3f5f",
           "arrowhead": 0,
           "arrowwidth": 1
          },
          "coloraxis": {
           "colorbar": {
            "outlinewidth": 0,
            "ticks": ""
           }
          },
          "colorscale": {
           "diverging": [
            [
             0,
             "#8e0152"
            ],
            [
             0.1,
             "#c51b7d"
            ],
            [
             0.2,
             "#de77ae"
            ],
            [
             0.3,
             "#f1b6da"
            ],
            [
             0.4,
             "#fde0ef"
            ],
            [
             0.5,
             "#f7f7f7"
            ],
            [
             0.6,
             "#e6f5d0"
            ],
            [
             0.7,
             "#b8e186"
            ],
            [
             0.8,
             "#7fbc41"
            ],
            [
             0.9,
             "#4d9221"
            ],
            [
             1,
             "#276419"
            ]
           ],
           "sequential": [
            [
             0,
             "#0d0887"
            ],
            [
             0.1111111111111111,
             "#46039f"
            ],
            [
             0.2222222222222222,
             "#7201a8"
            ],
            [
             0.3333333333333333,
             "#9c179e"
            ],
            [
             0.4444444444444444,
             "#bd3786"
            ],
            [
             0.5555555555555556,
             "#d8576b"
            ],
            [
             0.6666666666666666,
             "#ed7953"
            ],
            [
             0.7777777777777778,
             "#fb9f3a"
            ],
            [
             0.8888888888888888,
             "#fdca26"
            ],
            [
             1,
             "#f0f921"
            ]
           ],
           "sequentialminus": [
            [
             0,
             "#0d0887"
            ],
            [
             0.1111111111111111,
             "#46039f"
            ],
            [
             0.2222222222222222,
             "#7201a8"
            ],
            [
             0.3333333333333333,
             "#9c179e"
            ],
            [
             0.4444444444444444,
             "#bd3786"
            ],
            [
             0.5555555555555556,
             "#d8576b"
            ],
            [
             0.6666666666666666,
             "#ed7953"
            ],
            [
             0.7777777777777778,
             "#fb9f3a"
            ],
            [
             0.8888888888888888,
             "#fdca26"
            ],
            [
             1,
             "#f0f921"
            ]
           ]
          },
          "colorway": [
           "#636efa",
           "#EF553B",
           "#00cc96",
           "#ab63fa",
           "#FFA15A",
           "#19d3f3",
           "#FF6692",
           "#B6E880",
           "#FF97FF",
           "#FECB52"
          ],
          "font": {
           "color": "#2a3f5f"
          },
          "geo": {
           "bgcolor": "white",
           "lakecolor": "white",
           "landcolor": "#E5ECF6",
           "showlakes": true,
           "showland": true,
           "subunitcolor": "white"
          },
          "hoverlabel": {
           "align": "left"
          },
          "hovermode": "closest",
          "mapbox": {
           "style": "light"
          },
          "paper_bgcolor": "white",
          "plot_bgcolor": "#E5ECF6",
          "polar": {
           "angularaxis": {
            "gridcolor": "white",
            "linecolor": "white",
            "ticks": ""
           },
           "bgcolor": "#E5ECF6",
           "radialaxis": {
            "gridcolor": "white",
            "linecolor": "white",
            "ticks": ""
           }
          },
          "scene": {
           "xaxis": {
            "backgroundcolor": "#E5ECF6",
            "gridcolor": "white",
            "gridwidth": 2,
            "linecolor": "white",
            "showbackground": true,
            "ticks": "",
            "zerolinecolor": "white"
           },
           "yaxis": {
            "backgroundcolor": "#E5ECF6",
            "gridcolor": "white",
            "gridwidth": 2,
            "linecolor": "white",
            "showbackground": true,
            "ticks": "",
            "zerolinecolor": "white"
           },
           "zaxis": {
            "backgroundcolor": "#E5ECF6",
            "gridcolor": "white",
            "gridwidth": 2,
            "linecolor": "white",
            "showbackground": true,
            "ticks": "",
            "zerolinecolor": "white"
           }
          },
          "shapedefaults": {
           "line": {
            "color": "#2a3f5f"
           }
          },
          "ternary": {
           "aaxis": {
            "gridcolor": "white",
            "linecolor": "white",
            "ticks": ""
           },
           "baxis": {
            "gridcolor": "white",
            "linecolor": "white",
            "ticks": ""
           },
           "bgcolor": "#E5ECF6",
           "caxis": {
            "gridcolor": "white",
            "linecolor": "white",
            "ticks": ""
           }
          },
          "title": {
           "x": 0.05
          },
          "xaxis": {
           "automargin": true,
           "gridcolor": "white",
           "linecolor": "white",
           "ticks": "",
           "title": {
            "standoff": 15
           },
           "zerolinecolor": "white",
           "zerolinewidth": 2
          },
          "yaxis": {
           "automargin": true,
           "gridcolor": "white",
           "linecolor": "white",
           "ticks": "",
           "title": {
            "standoff": 15
           },
           "zerolinecolor": "white",
           "zerolinewidth": 2
          }
         }
        }
       }
      },
      "text/html": [
       "<div>                            <div id=\"901b49b1-6b87-4295-8ffb-f0dfb17c914b\" class=\"plotly-graph-div\" style=\"height:525px; width:100%;\"></div>            <script type=\"text/javascript\">                require([\"plotly\"], function(Plotly) {                    window.PLOTLYENV=window.PLOTLYENV || {};                                    if (document.getElementById(\"901b49b1-6b87-4295-8ffb-f0dfb17c914b\")) {                    Plotly.newPlot(                        \"901b49b1-6b87-4295-8ffb-f0dfb17c914b\",                        [{\"branchvalues\": \"total\", \"domain\": {\"x\": [0.0, 1.0], \"y\": [0.0, 1.0]}, \"hovertemplate\": \"<b>%{label} </b> <br> Label: %{value}<br>Color: %{color:.2f}\", \"ids\": [-1, 19880, 19990, 7981, 19906, 19980, 19989, 19167, 16666, 19896, 18645, 19553, 16872, 19971, 19981, 19972, 19976, 19855, 19973, 19979, 19961, 19966, 6285, 8726, 4808, 19568, 19782, 19800, 19433, 19770, 19642, 15607, 17843, 6752, 4121, 10022, 3823, 7010, 8029, 9863, 4438, 5574, 4714, 17835, 18657, 18557, 457, 3468, 4113, 19024, 19358, 18039, 18296, 127, 17143, 17371, 19429, 19402, 19947, 19953, 19904, 19963, 19884, 19951, 19950, 19895, 19640, 19815, 19917, 19948, 19932, 19933, 19897, 19934, 19925, 19859, 19847, 15326, 19890, 18611, 18909, 18476, 19297, 19510, 18935, 19381, 8430, 19264, 18978, 19380, 18565, 17451, 18541, 17349, 18613, 19062, 16545, 18609, 19110, 18618, 19711, 19900, 19840, 19083, 19146, 18874, 19223, 19137, 19443, 19624, 2333, 19216, 17552, 18171, 19078, 18411, 18775, 19121, 5321, 16672, 19159, 10352, 17765, 17094, 16359, 18168, 18302, 18484, 18991, 18544, 19026, 14013, 2185, 13443, 17827, 18817, 9134, 9277, 2748, 7055, 5453, 3395, 8998], \"labels\": [\"all\", \"snowtown murder trial reveals more chilling\", \"canberra trip boosts wastewater plan hopes\", \"daylight saving time ends sunday\", \"lightning blamed for blackout\", \"us air force satellite blasts into space\", \"death toll in china quake rises\", \"butchers sharpen knives for sausage king title\", \"test test\", \"kwan wins world figure skating short program\", \"great lakes freeze for first time in years\", \"snowtown murder trial reveals more chilling\", \"antarctic rocks could aid global warming\", \"ogara recalled for france clash\", \"canberra trip boosts wastewater plan hopes\", \"ton up marillier fires zimbabwe past kenya\", \"gebrselassie plans world record comeback\", \"war muted oscars begin in hollywood\", \"legal embryo stem cell research one step closer in\", \"teenager charged over alleged crossbow attack\", \"carpentaria gold completes 20m purchase\", \"two jailed for life over elderly womans death\", \"lightning blamed for blackout\", \"more fires sparked by lightning\", \"360 civilians killed during palestinian uprising\", \"us satellites to monitor shuttle missions\", \"astronomers pinpoint huge cosmic blast\", \"schnyders slide continues dechy advances\", \"earthquake death toll rises to 257\", \"death toll in china quake rises\", \"cricket fans welcome home world cup champions\", \"butchers sharpen knives for sausage king title\", \"warriors wield axe\", \"siege follows double stabbing\", \"test test test\", \"test test\", \"hussain calls for separate one day and test\", \"us aiming for figure skating clean sweep\", \"kwan wins world figure skating short program\", \"hat trick for fashion designer\", \"great lakes freeze for first time in years\", \"esso fined over freezer incident\", \"millions of dollars to be spent on protecting lakes\", \"smigun takes out nordic skiing world championship\", \"snowtown murder trial reveals more chilling\", \"autumn brings cold comfort to vic\", \"antarctic rocks could aid global warming\", \"cool response given to antarctic positions\", \"stranded americans rescued from antarctica\", \"france confirms opposition to second resolution\", \"marseille lure psg into velodrome cauldron\", \"egyptian parliament extends emergency laws by\", \"pharaohs stay alive in african nations cup\", \"peace agreement may bring respite for venezuela\", \"annan meets cyprus leaders over reunification\", \"cambodia cabinet okays khmer rouge trials\", \"thanksgiving service held for vietnam veterans\", \"bega contest heating up\", \"dizzy says all systems go for windies tour\", \"new ferries credited with tas tourism boost\", \"deal to fast track oil gas development\", \"bushfire appeal chief defends allocation assessment\", \"atsic leader faces court over pub brawl\", \"man jailed over role in fatal assault\", \"human shields on their way home\", \"mining companies addressing worker concerns\", \"reed boat crew set to embark on historic voyage\", \"ton up marillier fires zimbabwe past kenya\", \"60 dead after bangladeshi boat accident\", \"four us soldiers killed in helicopter crash\", \"gebrselassie plans world record comeback\", \"bryant leads lakers to double overtime win\", \"elber double sends bayern into german cup final\", \"liverpool hoping to dent uniteds trophy charge\", \"odriscoll captures record as ireland downs italy\", \"hewitt leads australian charge in arizona\", \"raikkonen puts mclaren on top in practice\", \"bali survivor mccartney returns\", \"tour of valencia third stage leading\", \"tight security for crowe wedding\", \"dracula not afraid of war\", \"war muted oscars begin in hollywood\", \"new hiv prevention drug approved in the us\", \"treatment may trigger diabetes inhibitions\", \"researchers looking to engage students in science\", \"prestigious science research fellowships announced\", \"fossil find offers new evidence of dinosaur\", \"program underway to fight park weed\", \"blokes peel off pants for peace\", \"naked rain dancers to get protection from glaring\", \"artist to buy more paint with prize money\", \"students shot with crossbow\", \"toddler shot in the eye with air rifle\", \"coming out festival for children kicks off in\", \"young at heart seeks date for her 105th birthday\", \"teenager jailed for canberra arson\", \"man faces court over bow and arrow threat\", \"boy injured in ballooning accident\", \"vandals target tingha school\", \"teenager martins helps inter through\", \"uk police release eight arrested in anti terrorist\", \"queensland rail wins 200m tender\", \"arson attacks increase by 20pc\", \"swans duo extend contracts\", \"wife on murder charge gets bail\", \"grant elected for second mayoral term\", \"two women found dead in unit\", \"english pair set for aus open title\", \"woman dies in car crash\", \"webb favourite for ladies masters\", \"two major political parties join forces in austria\", \"pair face court over machete attack\", \"shuttle flight data recorder found\", \"no malice or complacency in columbia tragedy nasa\", \"change of plan for nasa balloon\", \"iaea begins iran nuclear assessment\", \"oil depot hit by rocket in south west iran\", \"huge cosmic burst delights astronomers\", \"chamber welcomes fast eddys news\", \"schnyders slide continues dechy advances\", \"rios shocks ferrero\", \"earthquake kills 158 injures thousands\", \"earthquake jolts northern pakistan\", \"china quake aftershocks take death toll to 266\", \"searchers fear 18 dead after china ferry sinks\", \"taiwan tourist train crashes\", \"china mine blast leaves 20 dead 52 trapped\", \"experts to investigate chinese link to mystery\", \"death toll in china quake rises\", \"china to name new president\", \"taiwan to beef up missile defense system\", \"babies in bags all from one china city\", \"all flights grounded at tokyo airport\", \"softballers qualify for olympics\", \"cricket fans welcome home world cup champions\", \"police probe home invasion\", \"knives replace guns as weapon of choice report\", \"butchers sharpen knives for sausage king title\", \"warriors wield axe\", \"basra uprising fought with axes and knives\", \"race meetings face the axe\", \"test test\", \"test test\"], \"marker\": {\"cmid\": 0.5, \"colors\": [1.0, 0.0026, 0.9856, 0.0001, 0.0003, 0.0034, 0.0067, 0.0006, 0.0004, 0.0003, 0.0003, 0.002, 0.0003, 0.0072, 0.7961, 0.0207, 0.127, 0.0014, 0.0067, 0.005, 0.0064, 0.0151, 0.0001, 0.0001, 0.0001, 0.0012, 0.0016, 0.0006, 0.0008, 0.0046, 0.0013, 0.0002, 0.0003, 0.0001, 0.0001, 0.0002, 0.0001, 0.0001, 0.0001, 0.0001, 0.0001, 0.0001, 0.0001, 0.0003, 0.0012, 0.0005, 0.0001, 0.0001, 0.0001, 0.0037, 0.0008, 0.0002, 0.0003, 0.0001, 0.0004, 0.0007, 0.0003, 0.0007, 0.0009, 0.0366, 0.0221, 0.6423, 0.0051, 0.0759, 0.0014, 0.0102, 0.0016, 0.008, 0.0032, 0.0095, 0.0728, 0.0045, 0.0044, 0.0124, 0.013, 0.0024, 0.0047, 0.0003, 0.0125, 0.0004, 0.0003, 0.0007, 0.0019, 0.0003, 0.0012, 0.0006, 0.0001, 0.0009, 0.0002, 0.0011, 0.0004, 0.0007, 0.0003, 0.0004, 0.0003, 0.0019, 0.0003, 0.0004, 0.0005, 0.0002, 0.0029, 0.0022, 0.0013, 0.0009, 0.002, 0.001, 0.0038, 0.0003, 0.0043, 0.0019, 0.0001, 0.0008, 0.0007, 0.0002, 0.0003, 0.0005, 0.0005, 0.0006, 0.0001, 0.0002, 0.0003, 0.0002, 0.0002, 0.0004, 0.0003, 0.0005, 0.0006, 0.0006, 0.0012, 0.0007, 0.0004, 0.0002, 0.0001, 0.0003, 0.0006, 0.0004, 0.0001, 0.0001, 0.0001, 0.0001, 0.0001, 0.0001, 0.0001], \"colorscale\": [[0.0, \"rgb(103,0,31)\"], [0.1, \"rgb(178,24,43)\"], [0.2, \"rgb(214,96,77)\"], [0.3, \"rgb(244,165,130)\"], [0.4, \"rgb(253,219,199)\"], [0.5, \"rgb(247,247,247)\"], [0.6, \"rgb(209,229,240)\"], [0.7, \"rgb(146,197,222)\"], [0.8, \"rgb(67,147,195)\"], [0.9, \"rgb(33,102,172)\"], [1.0, \"rgb(5,48,97)\"]]}, \"maxdepth\": 3, \"name\": \"\", \"parents\": [\"all\", -1, -1, -1, -1, -1, -1, -1, -1, -1, 19880, 19880, 19880, 19990, 19990, 19990, 19990, 19990, 19990, 19990, 19990, 19990, 19906, 19906, 19906, 19980, 19980, 19980, 19989, 19989, 19989, 19167, 19167, 19167, 16666, 16666, 16666, 19896, 19896, 19896, 18645, 18645, 18645, 19553, 19553, 19553, 16872, 16872, 16872, 19971, 19971, 19971, 19971, 19971, 19971, 19971, 19971, 19971, 19981, 19981, 19981, 19981, 19981, 19981, 19981, 19981, 19981, 19972, 19972, 19972, 19976, 19976, 19976, 19976, 19976, 19976, 19976, 19976, 19976, 19855, 19855, 19855, 19973, 19973, 19973, 19973, 19973, 19973, 19973, 19973, 19973, 19979, 19979, 19979, 19979, 19979, 19979, 19979, 19979, 19979, 19961, 19961, 19961, 19966, 19966, 19966, 19966, 19966, 19966, 19966, 19966, 19966, 19568, 19568, 19568, 19782, 19782, 19782, 19800, 19800, 19800, 19433, 19433, 19433, 19770, 19770, 19770, 19770, 19770, 19770, 19770, 19770, 19770, 19642, 19642, 19642, 15607, 15607, 17843, 17843, 17843, 10022, 10022], \"type\": \"treemap\", \"values\": [10000, 26, 9856, 1, 3, 34, 67, 6, 4, 3, 3, 20, 3, 72, 7961, 207, 1270, 14, 67, 50, 64, 151, 1, 1, 1, 12, 16, 6, 8, 46, 13, 2, 3, 1, 1, 2, 1, 1, 1, 1, 1, 1, 1, 3, 12, 5, 1, 1, 1, 37, 8, 2, 3, 1, 4, 7, 3, 7, 9, 366, 221, 6423, 51, 759, 14, 102, 16, 80, 32, 95, 728, 45, 44, 124, 130, 24, 47, 3, 125, 4, 3, 7, 19, 3, 12, 6, 1, 9, 2, 11, 4, 7, 3, 4, 3, 19, 3, 4, 5, 2, 29, 22, 13, 9, 20, 10, 38, 3, 43, 19, 1, 8, 7, 2, 3, 5, 5, 6, 1, 2, 3, 2, 2, 4, 3, 5, 6, 6, 12, 7, 4, 2, 1, 3, 6, 4, 1, 1, 1, 1, 1, 1, 1]}],                        {\"margin\": {\"b\": 10, \"l\": 10, \"r\": 10, \"t\": 10}, \"template\": {\"data\": {\"bar\": [{\"error_x\": {\"color\": \"#2a3f5f\"}, \"error_y\": {\"color\": \"#2a3f5f\"}, \"marker\": {\"line\": {\"color\": \"#E5ECF6\", \"width\": 0.5}}, \"type\": \"bar\"}], \"barpolar\": [{\"marker\": {\"line\": {\"color\": \"#E5ECF6\", \"width\": 0.5}}, \"type\": \"barpolar\"}], \"carpet\": [{\"aaxis\": {\"endlinecolor\": \"#2a3f5f\", \"gridcolor\": \"white\", \"linecolor\": \"white\", \"minorgridcolor\": \"white\", \"startlinecolor\": \"#2a3f5f\"}, \"baxis\": {\"endlinecolor\": \"#2a3f5f\", \"gridcolor\": \"white\", \"linecolor\": \"white\", \"minorgridcolor\": \"white\", \"startlinecolor\": \"#2a3f5f\"}, \"type\": \"carpet\"}], \"choropleth\": [{\"colorbar\": {\"outlinewidth\": 0, \"ticks\": \"\"}, \"type\": \"choropleth\"}], \"contour\": [{\"colorbar\": {\"outlinewidth\": 0, \"ticks\": \"\"}, \"colorscale\": [[0.0, \"#0d0887\"], [0.1111111111111111, \"#46039f\"], [0.2222222222222222, \"#7201a8\"], [0.3333333333333333, \"#9c179e\"], [0.4444444444444444, \"#bd3786\"], [0.5555555555555556, \"#d8576b\"], [0.6666666666666666, \"#ed7953\"], [0.7777777777777778, \"#fb9f3a\"], [0.8888888888888888, \"#fdca26\"], [1.0, \"#f0f921\"]], \"type\": \"contour\"}], \"contourcarpet\": [{\"colorbar\": {\"outlinewidth\": 0, \"ticks\": \"\"}, \"type\": \"contourcarpet\"}], \"heatmap\": [{\"colorbar\": {\"outlinewidth\": 0, \"ticks\": \"\"}, \"colorscale\": [[0.0, \"#0d0887\"], [0.1111111111111111, \"#46039f\"], [0.2222222222222222, \"#7201a8\"], [0.3333333333333333, \"#9c179e\"], [0.4444444444444444, \"#bd3786\"], [0.5555555555555556, \"#d8576b\"], [0.6666666666666666, \"#ed7953\"], [0.7777777777777778, \"#fb9f3a\"], [0.8888888888888888, \"#fdca26\"], [1.0, \"#f0f921\"]], \"type\": \"heatmap\"}], \"heatmapgl\": [{\"colorbar\": {\"outlinewidth\": 0, \"ticks\": \"\"}, \"colorscale\": [[0.0, \"#0d0887\"], [0.1111111111111111, \"#46039f\"], [0.2222222222222222, \"#7201a8\"], [0.3333333333333333, \"#9c179e\"], [0.4444444444444444, \"#bd3786\"], [0.5555555555555556, \"#d8576b\"], [0.6666666666666666, \"#ed7953\"], [0.7777777777777778, \"#fb9f3a\"], [0.8888888888888888, \"#fdca26\"], [1.0, \"#f0f921\"]], \"type\": \"heatmapgl\"}], \"histogram\": [{\"marker\": {\"colorbar\": {\"outlinewidth\": 0, \"ticks\": \"\"}}, \"type\": \"histogram\"}], \"histogram2d\": [{\"colorbar\": {\"outlinewidth\": 0, \"ticks\": \"\"}, \"colorscale\": [[0.0, \"#0d0887\"], [0.1111111111111111, \"#46039f\"], [0.2222222222222222, \"#7201a8\"], [0.3333333333333333, \"#9c179e\"], [0.4444444444444444, \"#bd3786\"], [0.5555555555555556, \"#d8576b\"], [0.6666666666666666, \"#ed7953\"], [0.7777777777777778, \"#fb9f3a\"], [0.8888888888888888, \"#fdca26\"], [1.0, \"#f0f921\"]], \"type\": \"histogram2d\"}], \"histogram2dcontour\": [{\"colorbar\": {\"outlinewidth\": 0, \"ticks\": \"\"}, \"colorscale\": [[0.0, \"#0d0887\"], [0.1111111111111111, \"#46039f\"], [0.2222222222222222, \"#7201a8\"], [0.3333333333333333, \"#9c179e\"], [0.4444444444444444, \"#bd3786\"], [0.5555555555555556, \"#d8576b\"], [0.6666666666666666, \"#ed7953\"], [0.7777777777777778, \"#fb9f3a\"], [0.8888888888888888, \"#fdca26\"], [1.0, \"#f0f921\"]], \"type\": \"histogram2dcontour\"}], \"mesh3d\": [{\"colorbar\": {\"outlinewidth\": 0, \"ticks\": \"\"}, \"type\": \"mesh3d\"}], \"parcoords\": [{\"line\": {\"colorbar\": {\"outlinewidth\": 0, \"ticks\": \"\"}}, \"type\": \"parcoords\"}], \"pie\": [{\"automargin\": true, \"type\": \"pie\"}], \"scatter\": [{\"marker\": {\"colorbar\": {\"outlinewidth\": 0, \"ticks\": \"\"}}, \"type\": \"scatter\"}], \"scatter3d\": [{\"line\": {\"colorbar\": {\"outlinewidth\": 0, \"ticks\": \"\"}}, \"marker\": {\"colorbar\": {\"outlinewidth\": 0, \"ticks\": \"\"}}, \"type\": \"scatter3d\"}], \"scattercarpet\": [{\"marker\": {\"colorbar\": {\"outlinewidth\": 0, \"ticks\": \"\"}}, \"type\": \"scattercarpet\"}], \"scattergeo\": [{\"marker\": {\"colorbar\": {\"outlinewidth\": 0, \"ticks\": \"\"}}, \"type\": \"scattergeo\"}], \"scattergl\": [{\"marker\": {\"colorbar\": {\"outlinewidth\": 0, \"ticks\": \"\"}}, \"type\": \"scattergl\"}], \"scattermapbox\": [{\"marker\": {\"colorbar\": {\"outlinewidth\": 0, \"ticks\": \"\"}}, \"type\": \"scattermapbox\"}], \"scatterpolar\": [{\"marker\": {\"colorbar\": {\"outlinewidth\": 0, \"ticks\": \"\"}}, \"type\": \"scatterpolar\"}], \"scatterpolargl\": [{\"marker\": {\"colorbar\": {\"outlinewidth\": 0, \"ticks\": \"\"}}, \"type\": \"scatterpolargl\"}], \"scatterternary\": [{\"marker\": {\"colorbar\": {\"outlinewidth\": 0, \"ticks\": \"\"}}, \"type\": \"scatterternary\"}], \"surface\": [{\"colorbar\": {\"outlinewidth\": 0, \"ticks\": \"\"}, \"colorscale\": [[0.0, \"#0d0887\"], [0.1111111111111111, \"#46039f\"], [0.2222222222222222, \"#7201a8\"], [0.3333333333333333, \"#9c179e\"], [0.4444444444444444, \"#bd3786\"], [0.5555555555555556, \"#d8576b\"], [0.6666666666666666, \"#ed7953\"], [0.7777777777777778, \"#fb9f3a\"], [0.8888888888888888, \"#fdca26\"], [1.0, \"#f0f921\"]], \"type\": \"surface\"}], \"table\": [{\"cells\": {\"fill\": {\"color\": \"#EBF0F8\"}, \"line\": {\"color\": \"white\"}}, \"header\": {\"fill\": {\"color\": \"#C8D4E3\"}, \"line\": {\"color\": \"white\"}}, \"type\": \"table\"}]}, \"layout\": {\"annotationdefaults\": {\"arrowcolor\": \"#2a3f5f\", \"arrowhead\": 0, \"arrowwidth\": 1}, \"coloraxis\": {\"colorbar\": {\"outlinewidth\": 0, \"ticks\": \"\"}}, \"colorscale\": {\"diverging\": [[0, \"#8e0152\"], [0.1, \"#c51b7d\"], [0.2, \"#de77ae\"], [0.3, \"#f1b6da\"], [0.4, \"#fde0ef\"], [0.5, \"#f7f7f7\"], [0.6, \"#e6f5d0\"], [0.7, \"#b8e186\"], [0.8, \"#7fbc41\"], [0.9, \"#4d9221\"], [1, \"#276419\"]], \"sequential\": [[0.0, \"#0d0887\"], [0.1111111111111111, \"#46039f\"], [0.2222222222222222, \"#7201a8\"], [0.3333333333333333, \"#9c179e\"], [0.4444444444444444, \"#bd3786\"], [0.5555555555555556, \"#d8576b\"], [0.6666666666666666, \"#ed7953\"], [0.7777777777777778, \"#fb9f3a\"], [0.8888888888888888, \"#fdca26\"], [1.0, \"#f0f921\"]], \"sequentialminus\": [[0.0, \"#0d0887\"], [0.1111111111111111, \"#46039f\"], [0.2222222222222222, \"#7201a8\"], [0.3333333333333333, \"#9c179e\"], [0.4444444444444444, \"#bd3786\"], [0.5555555555555556, \"#d8576b\"], [0.6666666666666666, \"#ed7953\"], [0.7777777777777778, \"#fb9f3a\"], [0.8888888888888888, \"#fdca26\"], [1.0, \"#f0f921\"]]}, \"colorway\": [\"#636efa\", \"#EF553B\", \"#00cc96\", \"#ab63fa\", \"#FFA15A\", \"#19d3f3\", \"#FF6692\", \"#B6E880\", \"#FF97FF\", \"#FECB52\"], \"font\": {\"color\": \"#2a3f5f\"}, \"geo\": {\"bgcolor\": \"white\", \"lakecolor\": \"white\", \"landcolor\": \"#E5ECF6\", \"showlakes\": true, \"showland\": true, \"subunitcolor\": \"white\"}, \"hoverlabel\": {\"align\": \"left\"}, \"hovermode\": \"closest\", \"mapbox\": {\"style\": \"light\"}, \"paper_bgcolor\": \"white\", \"plot_bgcolor\": \"#E5ECF6\", \"polar\": {\"angularaxis\": {\"gridcolor\": \"white\", \"linecolor\": \"white\", \"ticks\": \"\"}, \"bgcolor\": \"#E5ECF6\", \"radialaxis\": {\"gridcolor\": \"white\", \"linecolor\": \"white\", \"ticks\": \"\"}}, \"scene\": {\"xaxis\": {\"backgroundcolor\": \"#E5ECF6\", \"gridcolor\": \"white\", \"gridwidth\": 2, \"linecolor\": \"white\", \"showbackground\": true, \"ticks\": \"\", \"zerolinecolor\": \"white\"}, \"yaxis\": {\"backgroundcolor\": \"#E5ECF6\", \"gridcolor\": \"white\", \"gridwidth\": 2, \"linecolor\": \"white\", \"showbackground\": true, \"ticks\": \"\", \"zerolinecolor\": \"white\"}, \"zaxis\": {\"backgroundcolor\": \"#E5ECF6\", \"gridcolor\": \"white\", \"gridwidth\": 2, \"linecolor\": \"white\", \"showbackground\": true, \"ticks\": \"\", \"zerolinecolor\": \"white\"}}, \"shapedefaults\": {\"line\": {\"color\": \"#2a3f5f\"}}, \"ternary\": {\"aaxis\": {\"gridcolor\": \"white\", \"linecolor\": \"white\", \"ticks\": \"\"}, \"baxis\": {\"gridcolor\": \"white\", \"linecolor\": \"white\", \"ticks\": \"\"}, \"bgcolor\": \"#E5ECF6\", \"caxis\": {\"gridcolor\": \"white\", \"linecolor\": \"white\", \"ticks\": \"\"}}, \"title\": {\"x\": 0.05}, \"xaxis\": {\"automargin\": true, \"gridcolor\": \"white\", \"linecolor\": \"white\", \"ticks\": \"\", \"title\": {\"standoff\": 15}, \"zerolinecolor\": \"white\", \"zerolinewidth\": 2}, \"yaxis\": {\"automargin\": true, \"gridcolor\": \"white\", \"linecolor\": \"white\", \"ticks\": \"\", \"title\": {\"standoff\": 15}, \"zerolinecolor\": \"white\", \"zerolinewidth\": 2}}}},                        {\"responsive\": true}                    ).then(function(){\n",
       "                            \n",
       "var gd = document.getElementById('901b49b1-6b87-4295-8ffb-f0dfb17c914b');\n",
       "var x = new MutationObserver(function (mutations, observer) {{\n",
       "        var display = window.getComputedStyle(gd).display;\n",
       "        if (!display || display === 'none') {{\n",
       "            console.log([gd, 'removed!']);\n",
       "            Plotly.purge(gd);\n",
       "            observer.disconnect();\n",
       "        }}\n",
       "}});\n",
       "\n",
       "// Listen for the removal of the full notebook cells\n",
       "var notebookContainer = gd.closest('#notebook-container');\n",
       "if (notebookContainer) {{\n",
       "    x.observe(notebookContainer, {childList: true});\n",
       "}}\n",
       "\n",
       "// Listen for the clearing of the current output cell\n",
       "var outputEl = gd.closest('.output');\n",
       "if (outputEl) {{\n",
       "    x.observe(outputEl, {childList: true});\n",
       "}}\n",
       "\n",
       "                        })                };                });            </script>        </div>"
      ]
     },
     "metadata": {},
     "output_type": "display_data"
    }
   ],
   "source": [
    "#build_tree_map(df_res1.iloc[::-1])\n",
    "\n",
    "build_tree_map(df_res,maxdepth=3)\n",
    "\n"
   ]
  },
  {
   "cell_type": "code",
   "execution_count": null,
   "metadata": {},
   "outputs": [],
   "source": []
  },
  {
   "cell_type": "code",
   "execution_count": null,
   "metadata": {},
   "outputs": [],
   "source": []
  },
  {
   "cell_type": "code",
   "execution_count": 49,
   "metadata": {},
   "outputs": [],
   "source": [
    "from sklearn.metrics.pairwise import paired_cosine_distances, cosine_similarity, \\\n",
    "paired_euclidean_distances, paired_manhattan_distances, cosine_distances\n"
   ]
  },
  {
   "cell_type": "code",
   "execution_count": 36,
   "metadata": {},
   "outputs": [],
   "source": [
    "clust_avg=np.mean(clust_emb, axis=0, keepdims=True)"
   ]
  },
  {
   "cell_type": "code",
   "execution_count": 39,
   "metadata": {},
   "outputs": [
    {
     "data": {
      "text/plain": [
       "(1000, 1)"
      ]
     },
     "execution_count": 39,
     "metadata": {},
     "output_type": "execute_result"
    }
   ],
   "source": [
    "np.shape(cosine_distances(clust_emb,clust_avg))"
   ]
  },
  {
   "cell_type": "code",
   "execution_count": 50,
   "metadata": {},
   "outputs": [],
   "source": [
    "import numpy as np\n",
    "#df['inner_similarity']=np.sum(1 - (cosine_distances(clust_emb)),axis=1)\n",
    "df['cluster_rank']=0.5*(1 + cosine_similarity(clust_emb,clust_avg))"
   ]
  },
  {
   "cell_type": "code",
   "execution_count": 24,
   "metadata": {
    "scrolled": true
   },
   "outputs": [
    {
     "data": {
      "text/html": [
       "<div>\n",
       "<style scoped>\n",
       "    .dataframe tbody tr th:only-of-type {\n",
       "        vertical-align: middle;\n",
       "    }\n",
       "\n",
       "    .dataframe tbody tr th {\n",
       "        vertical-align: top;\n",
       "    }\n",
       "\n",
       "    .dataframe thead th {\n",
       "        text-align: right;\n",
       "    }\n",
       "</style>\n",
       "<table border=\"1\" class=\"dataframe\">\n",
       "  <thead>\n",
       "    <tr style=\"text-align: right;\">\n",
       "      <th></th>\n",
       "      <th>publish_date</th>\n",
       "      <th>headline_text</th>\n",
       "      <th>inner_similarity</th>\n",
       "    </tr>\n",
       "  </thead>\n",
       "  <tbody>\n",
       "    <tr>\n",
       "      <th>819</th>\n",
       "      <td>20030222</td>\n",
       "      <td>wa opp says police will be taken off the beat</td>\n",
       "      <td>144.007599</td>\n",
       "    </tr>\n",
       "    <tr>\n",
       "      <th>660</th>\n",
       "      <td>20030221</td>\n",
       "      <td>stolen wage report looks to improve indigenous</td>\n",
       "      <td>143.629669</td>\n",
       "    </tr>\n",
       "    <tr>\n",
       "      <th>133</th>\n",
       "      <td>20030219</td>\n",
       "      <td>police defend aboriginal tent embassy raid</td>\n",
       "      <td>143.467728</td>\n",
       "    </tr>\n",
       "    <tr>\n",
       "      <th>395</th>\n",
       "      <td>20030220</td>\n",
       "      <td>saff to gauge feelings on planned crown lands ...</td>\n",
       "      <td>142.455933</td>\n",
       "    </tr>\n",
       "    <tr>\n",
       "      <th>222</th>\n",
       "      <td>20030220</td>\n",
       "      <td>call for ambos help in wake of funding changes</td>\n",
       "      <td>142.176910</td>\n",
       "    </tr>\n",
       "    <tr>\n",
       "      <th>...</th>\n",
       "      <td>...</td>\n",
       "      <td>...</td>\n",
       "      <td>...</td>\n",
       "    </tr>\n",
       "    <tr>\n",
       "      <th>98</th>\n",
       "      <td>20030219</td>\n",
       "      <td>more than 40 pc of young men drink alcohol at</td>\n",
       "      <td>18.962337</td>\n",
       "    </tr>\n",
       "    <tr>\n",
       "      <th>300</th>\n",
       "      <td>20030220</td>\n",
       "      <td>iran military plane crash kills 302</td>\n",
       "      <td>11.452745</td>\n",
       "    </tr>\n",
       "    <tr>\n",
       "      <th>35</th>\n",
       "      <td>20030219</td>\n",
       "      <td>death toll continues to climb in south korean ...</td>\n",
       "      <td>8.362158</td>\n",
       "    </tr>\n",
       "    <tr>\n",
       "      <th>301</th>\n",
       "      <td>20030220</td>\n",
       "      <td>iran plane crashes with at least 250 aboard tv</td>\n",
       "      <td>2.499015</td>\n",
       "    </tr>\n",
       "    <tr>\n",
       "      <th>731</th>\n",
       "      <td>20030222</td>\n",
       "      <td>female cosmonauts keep feet on the ground</td>\n",
       "      <td>-17.805595</td>\n",
       "    </tr>\n",
       "  </tbody>\n",
       "</table>\n",
       "<p>1000 rows × 3 columns</p>\n",
       "</div>"
      ],
      "text/plain": [
       "     publish_date                                      headline_text  \\\n",
       "819      20030222      wa opp says police will be taken off the beat   \n",
       "660      20030221     stolen wage report looks to improve indigenous   \n",
       "133      20030219         police defend aboriginal tent embassy raid   \n",
       "395      20030220  saff to gauge feelings on planned crown lands ...   \n",
       "222      20030220     call for ambos help in wake of funding changes   \n",
       "..            ...                                                ...   \n",
       "98       20030219      more than 40 pc of young men drink alcohol at   \n",
       "300      20030220                iran military plane crash kills 302   \n",
       "35       20030219  death toll continues to climb in south korean ...   \n",
       "301      20030220     iran plane crashes with at least 250 aboard tv   \n",
       "731      20030222          female cosmonauts keep feet on the ground   \n",
       "\n",
       "     inner_similarity  \n",
       "819        144.007599  \n",
       "660        143.629669  \n",
       "133        143.467728  \n",
       "395        142.455933  \n",
       "222        142.176910  \n",
       "..                ...  \n",
       "98          18.962337  \n",
       "300         11.452745  \n",
       "35           8.362158  \n",
       "301          2.499015  \n",
       "731        -17.805595  \n",
       "\n",
       "[1000 rows x 3 columns]"
      ]
     },
     "execution_count": 24,
     "metadata": {},
     "output_type": "execute_result"
    }
   ],
   "source": [
    "df.sort_values('inner_similarity',ascending=False)"
   ]
  },
  {
   "cell_type": "code",
   "execution_count": 47,
   "metadata": {
    "scrolled": true
   },
   "outputs": [
    {
     "data": {
      "text/html": [
       "<div>\n",
       "<style scoped>\n",
       "    .dataframe tbody tr th:only-of-type {\n",
       "        vertical-align: middle;\n",
       "    }\n",
       "\n",
       "    .dataframe tbody tr th {\n",
       "        vertical-align: top;\n",
       "    }\n",
       "\n",
       "    .dataframe thead th {\n",
       "        text-align: right;\n",
       "    }\n",
       "</style>\n",
       "<table border=\"1\" class=\"dataframe\">\n",
       "  <thead>\n",
       "    <tr style=\"text-align: right;\">\n",
       "      <th></th>\n",
       "      <th>publish_date</th>\n",
       "      <th>headline_text</th>\n",
       "      <th>inner_similarity</th>\n",
       "      <th>cluster_rank</th>\n",
       "    </tr>\n",
       "  </thead>\n",
       "  <tbody>\n",
       "    <tr>\n",
       "      <th>819</th>\n",
       "      <td>20030222</td>\n",
       "      <td>wa opp says police will be taken off the beat</td>\n",
       "      <td>144.007599</td>\n",
       "      <td>0.496646</td>\n",
       "    </tr>\n",
       "    <tr>\n",
       "      <th>660</th>\n",
       "      <td>20030221</td>\n",
       "      <td>stolen wage report looks to improve indigenous</td>\n",
       "      <td>143.629669</td>\n",
       "      <td>0.496389</td>\n",
       "    </tr>\n",
       "    <tr>\n",
       "      <th>133</th>\n",
       "      <td>20030219</td>\n",
       "      <td>police defend aboriginal tent embassy raid</td>\n",
       "      <td>143.467728</td>\n",
       "      <td>0.494510</td>\n",
       "    </tr>\n",
       "    <tr>\n",
       "      <th>222</th>\n",
       "      <td>20030220</td>\n",
       "      <td>call for ambos help in wake of funding changes</td>\n",
       "      <td>142.176910</td>\n",
       "      <td>0.492250</td>\n",
       "    </tr>\n",
       "    <tr>\n",
       "      <th>395</th>\n",
       "      <td>20030220</td>\n",
       "      <td>saff to gauge feelings on planned crown lands ...</td>\n",
       "      <td>142.455933</td>\n",
       "      <td>0.488922</td>\n",
       "    </tr>\n",
       "    <tr>\n",
       "      <th>...</th>\n",
       "      <td>...</td>\n",
       "      <td>...</td>\n",
       "      <td>...</td>\n",
       "      <td>...</td>\n",
       "    </tr>\n",
       "    <tr>\n",
       "      <th>260</th>\n",
       "      <td>20030220</td>\n",
       "      <td>families confront korean president elect over</td>\n",
       "      <td>19.677736</td>\n",
       "      <td>0.067093</td>\n",
       "    </tr>\n",
       "    <tr>\n",
       "      <th>300</th>\n",
       "      <td>20030220</td>\n",
       "      <td>iran military plane crash kills 302</td>\n",
       "      <td>11.452745</td>\n",
       "      <td>0.040750</td>\n",
       "    </tr>\n",
       "    <tr>\n",
       "      <th>35</th>\n",
       "      <td>20030219</td>\n",
       "      <td>death toll continues to climb in south korean ...</td>\n",
       "      <td>8.362158</td>\n",
       "      <td>0.031516</td>\n",
       "    </tr>\n",
       "    <tr>\n",
       "      <th>301</th>\n",
       "      <td>20030220</td>\n",
       "      <td>iran plane crashes with at least 250 aboard tv</td>\n",
       "      <td>2.499015</td>\n",
       "      <td>0.007392</td>\n",
       "    </tr>\n",
       "    <tr>\n",
       "      <th>731</th>\n",
       "      <td>20030222</td>\n",
       "      <td>female cosmonauts keep feet on the ground</td>\n",
       "      <td>-17.805595</td>\n",
       "      <td>-0.063105</td>\n",
       "    </tr>\n",
       "  </tbody>\n",
       "</table>\n",
       "<p>1000 rows × 4 columns</p>\n",
       "</div>"
      ],
      "text/plain": [
       "     publish_date                                      headline_text  \\\n",
       "819      20030222      wa opp says police will be taken off the beat   \n",
       "660      20030221     stolen wage report looks to improve indigenous   \n",
       "133      20030219         police defend aboriginal tent embassy raid   \n",
       "222      20030220     call for ambos help in wake of funding changes   \n",
       "395      20030220  saff to gauge feelings on planned crown lands ...   \n",
       "..            ...                                                ...   \n",
       "260      20030220      families confront korean president elect over   \n",
       "300      20030220                iran military plane crash kills 302   \n",
       "35       20030219  death toll continues to climb in south korean ...   \n",
       "301      20030220     iran plane crashes with at least 250 aboard tv   \n",
       "731      20030222          female cosmonauts keep feet on the ground   \n",
       "\n",
       "     inner_similarity  cluster_rank  \n",
       "819        144.007599      0.496646  \n",
       "660        143.629669      0.496389  \n",
       "133        143.467728      0.494510  \n",
       "222        142.176910      0.492250  \n",
       "395        142.455933      0.488922  \n",
       "..                ...           ...  \n",
       "260         19.677736      0.067093  \n",
       "300         11.452745      0.040750  \n",
       "35           8.362158      0.031516  \n",
       "301          2.499015      0.007392  \n",
       "731        -17.805595     -0.063105  \n",
       "\n",
       "[1000 rows x 4 columns]"
      ]
     },
     "execution_count": 47,
     "metadata": {},
     "output_type": "execute_result"
    }
   ],
   "source": [
    "df.sort_values('cluster_rank',ascending=False)"
   ]
  },
  {
   "cell_type": "code",
   "execution_count": 62,
   "metadata": {
    "scrolled": true
   },
   "outputs": [
    {
     "data": {
      "text/plain": [
       "array(['wa opp says police will be taken off the beat',\n",
       "       'stolen wage report looks to improve indigenous'], dtype=object)"
      ]
     },
     "execution_count": 62,
     "metadata": {},
     "output_type": "execute_result"
    }
   ],
   "source": [
    "df.sort_values('cluster_rank',ascending=False).head(2).headline_text.values"
   ]
  },
  {
   "cell_type": "code",
   "execution_count": 72,
   "metadata": {},
   "outputs": [],
   "source": []
  },
  {
   "cell_type": "code",
   "execution_count": 74,
   "metadata": {},
   "outputs": [
    {
     "data": {
      "text/plain": [
       "'air nz staff in aust strike for pay rise'"
      ]
     },
     "execution_count": 74,
     "metadata": {},
     "output_type": "execute_result"
    }
   ],
   "source": [
    "cluster_summary_simple(clust_txt[:10], model1, top_n=1)"
   ]
  },
  {
   "cell_type": "code",
   "execution_count": null,
   "metadata": {},
   "outputs": [],
   "source": []
  },
  {
   "cell_type": "code",
   "execution_count": null,
   "metadata": {},
   "outputs": [],
   "source": []
  }
 ],
 "metadata": {
  "kernelspec": {
   "display_name": "Python [conda env:hac_viz]",
   "language": "python",
   "name": "conda-env-hac_viz-py"
  },
  "language_info": {
   "codemirror_mode": {
    "name": "ipython",
    "version": 3
   },
   "file_extension": ".py",
   "mimetype": "text/x-python",
   "name": "python",
   "nbconvert_exporter": "python",
   "pygments_lexer": "ipython3",
   "version": "3.6.12"
  }
 },
 "nbformat": 4,
 "nbformat_minor": 2
}
